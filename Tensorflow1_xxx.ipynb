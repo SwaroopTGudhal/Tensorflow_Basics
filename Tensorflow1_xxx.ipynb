{
 "cells": [
  {
   "cell_type": "code",
   "execution_count": 2,
   "metadata": {
    "colab": {
     "base_uri": "https://localhost:8080/"
    },
    "id": "ee-UNL2Wp9ir",
    "outputId": "36742785-b2d2-4e09-87c3-ad0624022dd5"
   },
   "outputs": [
    {
     "name": "stderr",
     "output_type": "stream",
     "text": [
      "/usr/local/lib/python3.6/dist-packages/tensorflow/python/framework/dtypes.py:516: FutureWarning: Passing (type, 1) or '1type' as a synonym of type is deprecated; in a future version of numpy, it will be understood as (type, (1,)) / '(1,)type'.\n",
      "  _np_qint8 = np.dtype([(\"qint8\", np.int8, 1)])\n",
      "/usr/local/lib/python3.6/dist-packages/tensorflow/python/framework/dtypes.py:517: FutureWarning: Passing (type, 1) or '1type' as a synonym of type is deprecated; in a future version of numpy, it will be understood as (type, (1,)) / '(1,)type'.\n",
      "  _np_quint8 = np.dtype([(\"quint8\", np.uint8, 1)])\n",
      "/usr/local/lib/python3.6/dist-packages/tensorflow/python/framework/dtypes.py:518: FutureWarning: Passing (type, 1) or '1type' as a synonym of type is deprecated; in a future version of numpy, it will be understood as (type, (1,)) / '(1,)type'.\n",
      "  _np_qint16 = np.dtype([(\"qint16\", np.int16, 1)])\n",
      "/usr/local/lib/python3.6/dist-packages/tensorflow/python/framework/dtypes.py:519: FutureWarning: Passing (type, 1) or '1type' as a synonym of type is deprecated; in a future version of numpy, it will be understood as (type, (1,)) / '(1,)type'.\n",
      "  _np_quint16 = np.dtype([(\"quint16\", np.uint16, 1)])\n",
      "/usr/local/lib/python3.6/dist-packages/tensorflow/python/framework/dtypes.py:520: FutureWarning: Passing (type, 1) or '1type' as a synonym of type is deprecated; in a future version of numpy, it will be understood as (type, (1,)) / '(1,)type'.\n",
      "  _np_qint32 = np.dtype([(\"qint32\", np.int32, 1)])\n",
      "/usr/local/lib/python3.6/dist-packages/tensorflow/python/framework/dtypes.py:525: FutureWarning: Passing (type, 1) or '1type' as a synonym of type is deprecated; in a future version of numpy, it will be understood as (type, (1,)) / '(1,)type'.\n",
      "  np_resource = np.dtype([(\"resource\", np.ubyte, 1)])\n",
      "/usr/local/lib/python3.6/dist-packages/tensorboard/compat/tensorflow_stub/dtypes.py:541: FutureWarning: Passing (type, 1) or '1type' as a synonym of type is deprecated; in a future version of numpy, it will be understood as (type, (1,)) / '(1,)type'.\n",
      "  _np_qint8 = np.dtype([(\"qint8\", np.int8, 1)])\n",
      "/usr/local/lib/python3.6/dist-packages/tensorboard/compat/tensorflow_stub/dtypes.py:542: FutureWarning: Passing (type, 1) or '1type' as a synonym of type is deprecated; in a future version of numpy, it will be understood as (type, (1,)) / '(1,)type'.\n",
      "  _np_quint8 = np.dtype([(\"quint8\", np.uint8, 1)])\n",
      "/usr/local/lib/python3.6/dist-packages/tensorboard/compat/tensorflow_stub/dtypes.py:543: FutureWarning: Passing (type, 1) or '1type' as a synonym of type is deprecated; in a future version of numpy, it will be understood as (type, (1,)) / '(1,)type'.\n",
      "  _np_qint16 = np.dtype([(\"qint16\", np.int16, 1)])\n",
      "/usr/local/lib/python3.6/dist-packages/tensorboard/compat/tensorflow_stub/dtypes.py:544: FutureWarning: Passing (type, 1) or '1type' as a synonym of type is deprecated; in a future version of numpy, it will be understood as (type, (1,)) / '(1,)type'.\n",
      "  _np_quint16 = np.dtype([(\"quint16\", np.uint16, 1)])\n",
      "/usr/local/lib/python3.6/dist-packages/tensorboard/compat/tensorflow_stub/dtypes.py:545: FutureWarning: Passing (type, 1) or '1type' as a synonym of type is deprecated; in a future version of numpy, it will be understood as (type, (1,)) / '(1,)type'.\n",
      "  _np_qint32 = np.dtype([(\"qint32\", np.int32, 1)])\n",
      "/usr/local/lib/python3.6/dist-packages/tensorboard/compat/tensorflow_stub/dtypes.py:550: FutureWarning: Passing (type, 1) or '1type' as a synonym of type is deprecated; in a future version of numpy, it will be understood as (type, (1,)) / '(1,)type'.\n",
      "  np_resource = np.dtype([(\"resource\", np.ubyte, 1)])\n"
     ]
    }
   ],
   "source": [
    "import tensorflow as tf"
   ]
  },
  {
   "cell_type": "code",
   "execution_count": 3,
   "metadata": {
    "colab": {
     "base_uri": "https://localhost:8080/",
     "height": 35
    },
    "id": "l0Bv14chqQK-",
    "outputId": "398d5133-a483-4907-90f9-aa3a5cd94a7a"
   },
   "outputs": [
    {
     "data": {
      "application/vnd.google.colaboratory.intrinsic+json": {
       "type": "string"
      },
      "text/plain": [
       "'1.14.0'"
      ]
     },
     "execution_count": 3,
     "metadata": {
      "tags": []
     },
     "output_type": "execute_result"
    }
   ],
   "source": [
    "tf.__version__"
   ]
  },
  {
   "cell_type": "code",
   "execution_count": 4,
   "metadata": {
    "colab": {
     "base_uri": "https://localhost:8080/",
     "height": 836
    },
    "id": "1_kURHSTqVFE",
    "outputId": "94ce0b84-9343-4513-80af-3a0b31c343c8"
   },
   "outputs": [
    {
     "name": "stdout",
     "output_type": "stream",
     "text": [
      "Collecting tensorflow==1.14.0\n",
      "\u001b[?25l  Downloading https://files.pythonhosted.org/packages/de/f0/96fb2e0412ae9692dbf400e5b04432885f677ad6241c088ccc5fe7724d69/tensorflow-1.14.0-cp36-cp36m-manylinux1_x86_64.whl (109.2MB)\n",
      "\u001b[K     |████████████████████████████████| 109.2MB 44kB/s \n",
      "\u001b[?25hCollecting keras-applications>=1.0.6\n",
      "\u001b[?25l  Downloading https://files.pythonhosted.org/packages/71/e3/19762fdfc62877ae9102edf6342d71b28fbfd9dea3d2f96a882ce099b03f/Keras_Applications-1.0.8-py3-none-any.whl (50kB)\n",
      "\u001b[K     |████████████████████████████████| 51kB 6.8MB/s \n",
      "\u001b[?25hCollecting tensorflow-estimator<1.15.0rc0,>=1.14.0rc0\n",
      "\u001b[?25l  Downloading https://files.pythonhosted.org/packages/3c/d5/21860a5b11caf0678fbc8319341b0ae21a07156911132e0e71bffed0510d/tensorflow_estimator-1.14.0-py2.py3-none-any.whl (488kB)\n",
      "\u001b[K     |████████████████████████████████| 491kB 47.7MB/s \n",
      "\u001b[?25hRequirement already satisfied: grpcio>=1.8.6 in /usr/local/lib/python3.6/dist-packages (from tensorflow==1.14.0) (1.32.0)\n",
      "Requirement already satisfied: wheel>=0.26 in /usr/local/lib/python3.6/dist-packages (from tensorflow==1.14.0) (0.36.2)\n",
      "Requirement already satisfied: astor>=0.6.0 in /usr/local/lib/python3.6/dist-packages (from tensorflow==1.14.0) (0.8.1)\n",
      "Requirement already satisfied: keras-preprocessing>=1.0.5 in /usr/local/lib/python3.6/dist-packages (from tensorflow==1.14.0) (1.1.2)\n",
      "Requirement already satisfied: google-pasta>=0.1.6 in /usr/local/lib/python3.6/dist-packages (from tensorflow==1.14.0) (0.2.0)\n",
      "Requirement already satisfied: protobuf>=3.6.1 in /usr/local/lib/python3.6/dist-packages (from tensorflow==1.14.0) (3.12.4)\n",
      "Requirement already satisfied: termcolor>=1.1.0 in /usr/local/lib/python3.6/dist-packages (from tensorflow==1.14.0) (1.1.0)\n",
      "Requirement already satisfied: wrapt>=1.11.1 in /usr/local/lib/python3.6/dist-packages (from tensorflow==1.14.0) (1.12.1)\n",
      "Requirement already satisfied: gast>=0.2.0 in /usr/local/lib/python3.6/dist-packages (from tensorflow==1.14.0) (0.3.3)\n",
      "Requirement already satisfied: numpy<2.0,>=1.14.5 in /usr/local/lib/python3.6/dist-packages (from tensorflow==1.14.0) (1.19.4)\n",
      "Collecting tensorboard<1.15.0,>=1.14.0\n",
      "\u001b[?25l  Downloading https://files.pythonhosted.org/packages/91/2d/2ed263449a078cd9c8a9ba50ebd50123adf1f8cfbea1492f9084169b89d9/tensorboard-1.14.0-py3-none-any.whl (3.1MB)\n",
      "\u001b[K     |████████████████████████████████| 3.2MB 44.9MB/s \n",
      "\u001b[?25hRequirement already satisfied: six>=1.10.0 in /usr/local/lib/python3.6/dist-packages (from tensorflow==1.14.0) (1.15.0)\n",
      "Requirement already satisfied: absl-py>=0.7.0 in /usr/local/lib/python3.6/dist-packages (from tensorflow==1.14.0) (0.10.0)\n",
      "Requirement already satisfied: h5py in /usr/local/lib/python3.6/dist-packages (from keras-applications>=1.0.6->tensorflow==1.14.0) (2.10.0)\n",
      "Requirement already satisfied: setuptools in /usr/local/lib/python3.6/dist-packages (from protobuf>=3.6.1->tensorflow==1.14.0) (50.3.2)\n",
      "Requirement already satisfied: werkzeug>=0.11.15 in /usr/local/lib/python3.6/dist-packages (from tensorboard<1.15.0,>=1.14.0->tensorflow==1.14.0) (1.0.1)\n",
      "Requirement already satisfied: markdown>=2.6.8 in /usr/local/lib/python3.6/dist-packages (from tensorboard<1.15.0,>=1.14.0->tensorflow==1.14.0) (3.3.3)\n",
      "Requirement already satisfied: importlib-metadata; python_version < \"3.8\" in /usr/local/lib/python3.6/dist-packages (from markdown>=2.6.8->tensorboard<1.15.0,>=1.14.0->tensorflow==1.14.0) (3.3.0)\n",
      "Requirement already satisfied: typing-extensions>=3.6.4; python_version < \"3.8\" in /usr/local/lib/python3.6/dist-packages (from importlib-metadata; python_version < \"3.8\"->markdown>=2.6.8->tensorboard<1.15.0,>=1.14.0->tensorflow==1.14.0) (3.7.4.3)\n",
      "Requirement already satisfied: zipp>=0.5 in /usr/local/lib/python3.6/dist-packages (from importlib-metadata; python_version < \"3.8\"->markdown>=2.6.8->tensorboard<1.15.0,>=1.14.0->tensorflow==1.14.0) (3.4.0)\n",
      "Installing collected packages: keras-applications, tensorflow-estimator, tensorboard, tensorflow\n",
      "  Found existing installation: tensorflow-estimator 2.4.0\n",
      "    Uninstalling tensorflow-estimator-2.4.0:\n",
      "      Successfully uninstalled tensorflow-estimator-2.4.0\n",
      "  Found existing installation: tensorboard 2.4.0\n",
      "    Uninstalling tensorboard-2.4.0:\n",
      "      Successfully uninstalled tensorboard-2.4.0\n",
      "  Found existing installation: tensorflow 2.4.0\n",
      "    Uninstalling tensorflow-2.4.0:\n",
      "      Successfully uninstalled tensorflow-2.4.0\n",
      "Successfully installed keras-applications-1.0.8 tensorboard-1.14.0 tensorflow-1.14.0 tensorflow-estimator-1.14.0\n"
     ]
    },
    {
     "data": {
      "application/vnd.colab-display-data+json": {
       "pip_warning": {
        "packages": [
         "tensorboard",
         "tensorflow",
         "tensorflow_estimator"
        ]
       }
      }
     },
     "metadata": {
      "tags": []
     },
     "output_type": "display_data"
    }
   ],
   "source": [
    "!pip install tensorflow==1.14.0"
   ]
  },
  {
   "cell_type": "code",
   "execution_count": 4,
   "metadata": {
    "colab": {
     "base_uri": "https://localhost:8080/"
    },
    "id": "cSwJXEMfqeXs",
    "outputId": "f0a09ed3-1907-42ed-cfb7-d4623f03281e"
   },
   "outputs": [
    {
     "data": {
      "text/plain": [
       "<tf.Tensor 'Const:0' shape=() dtype=string>"
      ]
     },
     "execution_count": 4,
     "metadata": {
      "tags": []
     },
     "output_type": "execute_result"
    }
   ],
   "source": [
    "hello_constant = tf.constant('Hello World!')\n",
    "hello_constant"
   ]
  },
  {
   "cell_type": "code",
   "execution_count": null,
   "metadata": {
    "id": "-Qs45jiXy4cS"
   },
   "outputs": [],
   "source": []
  },
  {
   "cell_type": "code",
   "execution_count": 5,
   "metadata": {
    "colab": {
     "base_uri": "https://localhost:8080/"
    },
    "id": "aJ3JFocvyGii",
    "outputId": "651c85a4-9618-444b-c772-1d5b278abaf1"
   },
   "outputs": [
    {
     "name": "stdout",
     "output_type": "stream",
     "text": [
      "b'Hello World!'\n"
     ]
    }
   ],
   "source": [
    "import tensorflow as tf\n",
    "\n",
    "# Create TensorFlow object called tensor\n",
    "hello_constant = tf.constant('Hello World!')\n",
    "\n",
    "with tf.Session() as sess:\n",
    "        # Run the tf.constant operation in the session\n",
    "        output = sess.run(hello_constant)\n",
    "        print(output)"
   ]
  },
  {
   "cell_type": "code",
   "execution_count": 6,
   "metadata": {
    "colab": {
     "base_uri": "https://localhost:8080/"
    },
    "id": "7bX7xnOPyPio",
    "outputId": "6f04dc73-b1ee-4039-9e7c-d07e3123fbce"
   },
   "outputs": [
    {
     "data": {
      "text/plain": [
       "<tf.Tensor 'Const_2:0' shape=() dtype=string>"
      ]
     },
     "execution_count": 6,
     "metadata": {
      "tags": []
     },
     "output_type": "execute_result"
    }
   ],
   "source": [
    "a = tf.constant(\"hello world\")\n",
    "a"
   ]
  },
  {
   "cell_type": "code",
   "execution_count": 13,
   "metadata": {
    "colab": {
     "base_uri": "https://localhost:8080/"
    },
    "id": "BFnu6kLv7eDR",
    "outputId": "864c65f1-b308-4ed5-b7cc-ac397cbc332f"
   },
   "outputs": [
    {
     "data": {
      "text/plain": [
       "<tf.Tensor 'Const_4:0' shape=() dtype=string>"
      ]
     },
     "execution_count": 13,
     "metadata": {
      "tags": []
     },
     "output_type": "execute_result"
    }
   ],
   "source": [
    " a = tf.constant(\"hello world\")\n",
    "a"
   ]
  },
  {
   "cell_type": "code",
   "execution_count": 14,
   "metadata": {
    "colab": {
     "base_uri": "https://localhost:8080/"
    },
    "id": "pDvtGFqL7urV",
    "outputId": "3e490042-4069-47e7-a68b-d50abdae53cd"
   },
   "outputs": [
    {
     "data": {
      "text/plain": [
       "tensorflow.python.framework.ops.Tensor"
      ]
     },
     "execution_count": 14,
     "metadata": {
      "tags": []
     },
     "output_type": "execute_result"
    }
   ],
   "source": [
    "type(a)"
   ]
  },
  {
   "cell_type": "code",
   "execution_count": 15,
   "metadata": {
    "colab": {
     "base_uri": "https://localhost:8080/"
    },
    "id": "TjhcQ_ao7wel",
    "outputId": "fccc0775-1077-4ec3-ada9-3a74c41d8d69"
   },
   "outputs": [
    {
     "data": {
      "text/plain": [
       "<tf.Tensor 'Const_4:0' shape=() dtype=string>"
      ]
     },
     "execution_count": 15,
     "metadata": {
      "tags": []
     },
     "output_type": "execute_result"
    }
   ],
   "source": [
    "a"
   ]
  },
  {
   "cell_type": "code",
   "execution_count": 16,
   "metadata": {
    "colab": {
     "base_uri": "https://localhost:8080/"
    },
    "id": "91aa1Svc_q8c",
    "outputId": "18a08bea-e323-4f01-ac0f-fb3e8ae42085"
   },
   "outputs": [
    {
     "name": "stdout",
     "output_type": "stream",
     "text": [
      "b'hello world'\n"
     ]
    }
   ],
   "source": [
    "with tf.Session() as sess:\n",
    "  output = sess.run(a)\n",
    "  print(output)"
   ]
  },
  {
   "cell_type": "code",
   "execution_count": 18,
   "metadata": {
    "colab": {
     "base_uri": "https://localhost:8080/"
    },
    "id": "xjUH5qGQ_6Ox",
    "outputId": "f8b31b3e-a3be-4317-f015-9bc63752498b"
   },
   "outputs": [
    {
     "name": "stdout",
     "output_type": "stream",
     "text": [
      "b'hello world'\n"
     ]
    }
   ],
   "source": [
    "with tf.Session() as sess:\n",
    "  print(sess.run(a))"
   ]
  },
  {
   "cell_type": "code",
   "execution_count": 19,
   "metadata": {
    "id": "uCh-5E6aAame"
   },
   "outputs": [],
   "source": [
    "A = tf.constant(1234)\n",
    "# A is a  0 dimensional tensor\n",
    "\n",
    "B = tf.constant([123,456,789])\n",
    "# B is a 1 dimensional tensor\n",
    "\n",
    "C = tf.constant([[123,456,789],[222,333,444]])\n",
    "# C is a 3 dimensional tensor"
   ]
  },
  {
   "cell_type": "code",
   "execution_count": 21,
   "metadata": {
    "colab": {
     "base_uri": "https://localhost:8080/"
    },
    "id": "SPgR_nTPBcz8",
    "outputId": "4f0b34b6-b84a-44c3-ef28-9e4f77b30e76"
   },
   "outputs": [
    {
     "data": {
      "text/plain": [
       "<tf.Tensor 'Const_5:0' shape=() dtype=int32>"
      ]
     },
     "execution_count": 21,
     "metadata": {
      "tags": []
     },
     "output_type": "execute_result"
    }
   ],
   "source": [
    "A"
   ]
  },
  {
   "cell_type": "code",
   "execution_count": 22,
   "metadata": {
    "colab": {
     "base_uri": "https://localhost:8080/"
    },
    "id": "0k3IrGk5BeMs",
    "outputId": "690d2a42-4def-41c6-8677-82c624e7ed31"
   },
   "outputs": [
    {
     "data": {
      "text/plain": [
       "<tf.Tensor 'Const_6:0' shape=(3,) dtype=int32>"
      ]
     },
     "execution_count": 22,
     "metadata": {
      "tags": []
     },
     "output_type": "execute_result"
    }
   ],
   "source": [
    "B"
   ]
  },
  {
   "cell_type": "code",
   "execution_count": 24,
   "metadata": {
    "colab": {
     "base_uri": "https://localhost:8080/"
    },
    "id": "8AYCk3qrBgl7",
    "outputId": "b84329c6-5a23-4b8d-c8d7-87b6a2c41506"
   },
   "outputs": [
    {
     "data": {
      "text/plain": [
       "<tf.Tensor 'Const_7:0' shape=(2, 3) dtype=int32>"
      ]
     },
     "execution_count": 24,
     "metadata": {
      "tags": []
     },
     "output_type": "execute_result"
    }
   ],
   "source": [
    "C"
   ]
  },
  {
   "cell_type": "code",
   "execution_count": 31,
   "metadata": {
    "colab": {
     "base_uri": "https://localhost:8080/"
    },
    "id": "qGIfqiaLBink",
    "outputId": "bf08eb19-89ac-480f-ed7b-989f20afd01e"
   },
   "outputs": [
    {
     "name": "stdout",
     "output_type": "stream",
     "text": [
      "Tensor(\"Const_5:0\", shape=(), dtype=int32) = 1234\n",
      "Tensor(\"Const_6:0\", shape=(3,), dtype=int32) = [123 456 789]\n",
      "Tensor(\"Const_7:0\", shape=(2, 3), dtype=int32) = [[123 456 789]\n",
      " [222 333 444]]\n"
     ]
    }
   ],
   "source": [
    "with tf.Session() as sess:\n",
    "  for i in (A,B,C):\n",
    "    op = sess.run(i)\n",
    "    print(i,\"=\", op)"
   ]
  },
  {
   "cell_type": "code",
   "execution_count": 34,
   "metadata": {
    "colab": {
     "base_uri": "https://localhost:8080/"
    },
    "id": "LucmnrB0B28j",
    "outputId": "431d26b9-2d40-495e-dea9-63dbd9e78593"
   },
   "outputs": [
    {
     "name": "stdout",
     "output_type": "stream",
     "text": [
      "swaroop\n"
     ]
    }
   ],
   "source": [
    "x = tf.placeholder(tf.string)\n",
    "\n",
    "with tf.Session() as sess:\n",
    "  op = sess.run(x , feed_dict={x:\"swaroop\"})\n",
    "  print(op)"
   ]
  },
  {
   "cell_type": "code",
   "execution_count": 37,
   "metadata": {
    "colab": {
     "base_uri": "https://localhost:8080/"
    },
    "id": "bW1DM8nlFPAz",
    "outputId": "69cb1740-b8c1-4dba-f113-914a45fb9340"
   },
   "outputs": [
    {
     "name": "stdout",
     "output_type": "stream",
     "text": [
      "swaroop\n",
      "137799\n",
      "23.66\n"
     ]
    }
   ],
   "source": [
    "x = tf.placeholder(tf.string)\n",
    "y = tf.placeholder(tf.int32)\n",
    "z = tf.placeholder(tf.float32)\n",
    "\n",
    "with tf.Session() as sess:\n",
    "  opx = sess.run(x, feed_dict={x:\"swaroop\",y : 137799,z : 23.66})\n",
    "  opy = sess.run(y, feed_dict={x:\"swaroop\",y : 137799,z : 23.66})\n",
    "  opz = sess.run(z, feed_dict={x:\"swaroop\",y : 137799,z : 23.66})\n",
    "  print(opx)\n",
    "  print(opy)\n",
    "  print(opz)"
   ]
  },
  {
   "cell_type": "code",
   "execution_count": 40,
   "metadata": {
    "colab": {
     "base_uri": "https://localhost:8080/"
    },
    "id": "u7lHS9dbGQxq",
    "outputId": "27c8ae9b-368b-49f5-a300-acb9aa693f82"
   },
   "outputs": [
    {
     "name": "stdout",
     "output_type": "stream",
     "text": [
      "7\n",
      "3\n",
      "-3\n",
      "10\n",
      "3.0\n"
     ]
    }
   ],
   "source": [
    "# Addition Subtraction Multiplication and division\n",
    "\n",
    "ad = tf.add(5,2)\n",
    "sb1 = tf.subtract(5,2)\n",
    "sb2 = tf.subtract(2,5)\n",
    "ml = tf.multiply(2,5)\n",
    "di = tf.divide(tf.constant(6),tf.constant(2))\n",
    "\n",
    "with tf.Session() as sess:\n",
    "  for i in (ad,sb1,sb2,ml,di):\n",
    "    op = sess.run(i)\n",
    "    print(op)"
   ]
  },
  {
   "cell_type": "code",
   "execution_count": 41,
   "metadata": {
    "colab": {
     "base_uri": "https://localhost:8080/",
     "height": 476
    },
    "id": "R8XmRmUiHmp-",
    "outputId": "380aa2ff-405b-40cc-b39e-010a6884bf9a"
   },
   "outputs": [
    {
     "ename": "TypeError",
     "evalue": "ignored",
     "output_type": "error",
     "traceback": [
      "\u001b[0;31m---------------------------------------------------------------------------\u001b[0m",
      "\u001b[0;31mValueError\u001b[0m                                Traceback (most recent call last)",
      "\u001b[0;32m/usr/local/lib/python3.6/dist-packages/tensorflow/python/framework/op_def_library.py\u001b[0m in \u001b[0;36m_apply_op_helper\u001b[0;34m(self, op_type_name, name, **keywords)\u001b[0m\n\u001b[1;32m    526\u001b[0m                 \u001b[0mas_ref\u001b[0m\u001b[0;34m=\u001b[0m\u001b[0minput_arg\u001b[0m\u001b[0;34m.\u001b[0m\u001b[0mis_ref\u001b[0m\u001b[0;34m,\u001b[0m\u001b[0;34m\u001b[0m\u001b[0;34m\u001b[0m\u001b[0m\n\u001b[0;32m--> 527\u001b[0;31m                 preferred_dtype=default_dtype)\n\u001b[0m\u001b[1;32m    528\u001b[0m           \u001b[0;32mexcept\u001b[0m \u001b[0mTypeError\u001b[0m \u001b[0;32mas\u001b[0m \u001b[0merr\u001b[0m\u001b[0;34m:\u001b[0m\u001b[0;34m\u001b[0m\u001b[0;34m\u001b[0m\u001b[0m\n",
      "\u001b[0;32m/usr/local/lib/python3.6/dist-packages/tensorflow/python/framework/ops.py\u001b[0m in \u001b[0;36minternal_convert_to_tensor\u001b[0;34m(value, dtype, name, as_ref, preferred_dtype, ctx, accept_symbolic_tensors, accept_composite_tensors)\u001b[0m\n\u001b[1;32m   1223\u001b[0m     \u001b[0;32mif\u001b[0m \u001b[0mret\u001b[0m \u001b[0;32mis\u001b[0m \u001b[0;32mNone\u001b[0m\u001b[0;34m:\u001b[0m\u001b[0;34m\u001b[0m\u001b[0;34m\u001b[0m\u001b[0m\n\u001b[0;32m-> 1224\u001b[0;31m       \u001b[0mret\u001b[0m \u001b[0;34m=\u001b[0m \u001b[0mconversion_func\u001b[0m\u001b[0;34m(\u001b[0m\u001b[0mvalue\u001b[0m\u001b[0;34m,\u001b[0m \u001b[0mdtype\u001b[0m\u001b[0;34m=\u001b[0m\u001b[0mdtype\u001b[0m\u001b[0;34m,\u001b[0m \u001b[0mname\u001b[0m\u001b[0;34m=\u001b[0m\u001b[0mname\u001b[0m\u001b[0;34m,\u001b[0m \u001b[0mas_ref\u001b[0m\u001b[0;34m=\u001b[0m\u001b[0mas_ref\u001b[0m\u001b[0;34m)\u001b[0m\u001b[0;34m\u001b[0m\u001b[0;34m\u001b[0m\u001b[0m\n\u001b[0m\u001b[1;32m   1225\u001b[0m \u001b[0;34m\u001b[0m\u001b[0m\n",
      "\u001b[0;32m/usr/local/lib/python3.6/dist-packages/tensorflow/python/framework/ops.py\u001b[0m in \u001b[0;36m_TensorTensorConversionFunction\u001b[0;34m(t, dtype, name, as_ref)\u001b[0m\n\u001b[1;32m   1017\u001b[0m         \u001b[0;34m\"Tensor conversion requested dtype %s for Tensor with dtype %s: %r\"\u001b[0m \u001b[0;34m%\u001b[0m\u001b[0;34m\u001b[0m\u001b[0;34m\u001b[0m\u001b[0m\n\u001b[0;32m-> 1018\u001b[0;31m         (dtype.name, t.dtype.name, str(t)))\n\u001b[0m\u001b[1;32m   1019\u001b[0m   \u001b[0;32mreturn\u001b[0m \u001b[0mt\u001b[0m\u001b[0;34m\u001b[0m\u001b[0;34m\u001b[0m\u001b[0m\n",
      "\u001b[0;31mValueError\u001b[0m: Tensor conversion requested dtype float32 for Tensor with dtype int32: 'Tensor(\"Const_11:0\", shape=(), dtype=int32)'",
      "\nDuring handling of the above exception, another exception occurred:\n",
      "\u001b[0;31mTypeError\u001b[0m                                 Traceback (most recent call last)",
      "\u001b[0;32m<ipython-input-41-5745106b6728>\u001b[0m in \u001b[0;36m<module>\u001b[0;34m()\u001b[0m\n\u001b[1;32m      1\u001b[0m \u001b[0;31m# For typecasting\u001b[0m\u001b[0;34m\u001b[0m\u001b[0;34m\u001b[0m\u001b[0;34m\u001b[0m\u001b[0m\n\u001b[1;32m      2\u001b[0m \u001b[0;34m\u001b[0m\u001b[0m\n\u001b[0;32m----> 3\u001b[0;31m \u001b[0mc\u001b[0m \u001b[0;34m=\u001b[0m \u001b[0mtf\u001b[0m\u001b[0;34m.\u001b[0m\u001b[0msubtract\u001b[0m\u001b[0;34m(\u001b[0m\u001b[0mtf\u001b[0m\u001b[0;34m.\u001b[0m\u001b[0mconstant\u001b[0m\u001b[0;34m(\u001b[0m\u001b[0;36m2.0\u001b[0m\u001b[0;34m)\u001b[0m\u001b[0;34m,\u001b[0m\u001b[0mtf\u001b[0m\u001b[0;34m.\u001b[0m\u001b[0mconstant\u001b[0m\u001b[0;34m(\u001b[0m\u001b[0;36m1\u001b[0m\u001b[0;34m)\u001b[0m\u001b[0;34m)\u001b[0m\u001b[0;34m\u001b[0m\u001b[0;34m\u001b[0m\u001b[0m\n\u001b[0m\u001b[1;32m      4\u001b[0m \u001b[0;34m\u001b[0m\u001b[0m\n\u001b[1;32m      5\u001b[0m \u001b[0;32mwith\u001b[0m \u001b[0mtf\u001b[0m\u001b[0;34m.\u001b[0m\u001b[0mSession\u001b[0m\u001b[0;34m(\u001b[0m\u001b[0;34m)\u001b[0m \u001b[0;32mas\u001b[0m \u001b[0msess\u001b[0m\u001b[0;34m:\u001b[0m\u001b[0;34m\u001b[0m\u001b[0;34m\u001b[0m\u001b[0m\n",
      "\u001b[0;32m/usr/local/lib/python3.6/dist-packages/tensorflow/python/util/dispatch.py\u001b[0m in \u001b[0;36mwrapper\u001b[0;34m(*args, **kwargs)\u001b[0m\n\u001b[1;32m    178\u001b[0m     \u001b[0;34m\"\"\"Call target, and fall back on dispatchers if there is a TypeError.\"\"\"\u001b[0m\u001b[0;34m\u001b[0m\u001b[0;34m\u001b[0m\u001b[0m\n\u001b[1;32m    179\u001b[0m     \u001b[0;32mtry\u001b[0m\u001b[0;34m:\u001b[0m\u001b[0;34m\u001b[0m\u001b[0;34m\u001b[0m\u001b[0m\n\u001b[0;32m--> 180\u001b[0;31m       \u001b[0;32mreturn\u001b[0m \u001b[0mtarget\u001b[0m\u001b[0;34m(\u001b[0m\u001b[0;34m*\u001b[0m\u001b[0margs\u001b[0m\u001b[0;34m,\u001b[0m \u001b[0;34m**\u001b[0m\u001b[0mkwargs\u001b[0m\u001b[0;34m)\u001b[0m\u001b[0;34m\u001b[0m\u001b[0;34m\u001b[0m\u001b[0m\n\u001b[0m\u001b[1;32m    181\u001b[0m     \u001b[0;32mexcept\u001b[0m \u001b[0;34m(\u001b[0m\u001b[0mTypeError\u001b[0m\u001b[0;34m,\u001b[0m \u001b[0mValueError\u001b[0m\u001b[0;34m)\u001b[0m\u001b[0;34m:\u001b[0m\u001b[0;34m\u001b[0m\u001b[0;34m\u001b[0m\u001b[0m\n\u001b[1;32m    182\u001b[0m       \u001b[0;31m# Note: convert_to_eager_tensor currently raises a ValueError, not a\u001b[0m\u001b[0;34m\u001b[0m\u001b[0;34m\u001b[0m\u001b[0;34m\u001b[0m\u001b[0m\n",
      "\u001b[0;32m/usr/local/lib/python3.6/dist-packages/tensorflow/python/ops/math_ops.py\u001b[0m in \u001b[0;36msubtract\u001b[0;34m(x, y, name)\u001b[0m\n\u001b[1;32m    341\u001b[0m \u001b[0;34m@\u001b[0m\u001b[0mdispatch\u001b[0m\u001b[0;34m.\u001b[0m\u001b[0madd_dispatch_support\u001b[0m\u001b[0;34m\u001b[0m\u001b[0;34m\u001b[0m\u001b[0m\n\u001b[1;32m    342\u001b[0m \u001b[0;32mdef\u001b[0m \u001b[0msubtract\u001b[0m\u001b[0;34m(\u001b[0m\u001b[0mx\u001b[0m\u001b[0;34m,\u001b[0m \u001b[0my\u001b[0m\u001b[0;34m,\u001b[0m \u001b[0mname\u001b[0m\u001b[0;34m=\u001b[0m\u001b[0;32mNone\u001b[0m\u001b[0;34m)\u001b[0m\u001b[0;34m:\u001b[0m\u001b[0;34m\u001b[0m\u001b[0;34m\u001b[0m\u001b[0m\n\u001b[0;32m--> 343\u001b[0;31m   \u001b[0;32mreturn\u001b[0m \u001b[0mgen_math_ops\u001b[0m\u001b[0;34m.\u001b[0m\u001b[0msub\u001b[0m\u001b[0;34m(\u001b[0m\u001b[0mx\u001b[0m\u001b[0;34m,\u001b[0m \u001b[0my\u001b[0m\u001b[0;34m,\u001b[0m \u001b[0mname\u001b[0m\u001b[0;34m)\u001b[0m\u001b[0;34m\u001b[0m\u001b[0;34m\u001b[0m\u001b[0m\n\u001b[0m\u001b[1;32m    344\u001b[0m \u001b[0;34m\u001b[0m\u001b[0m\n\u001b[1;32m    345\u001b[0m \u001b[0;34m\u001b[0m\u001b[0m\n",
      "\u001b[0;32m/usr/local/lib/python3.6/dist-packages/tensorflow/python/ops/gen_math_ops.py\u001b[0m in \u001b[0;36msub\u001b[0;34m(x, y, name)\u001b[0m\n\u001b[1;32m  10853\u001b[0m   \u001b[0;31m# Add nodes to the TensorFlow graph.\u001b[0m\u001b[0;34m\u001b[0m\u001b[0;34m\u001b[0m\u001b[0;34m\u001b[0m\u001b[0m\n\u001b[1;32m  10854\u001b[0m   _, _, _op = _op_def_lib._apply_op_helper(\n\u001b[0;32m> 10855\u001b[0;31m         \"Sub\", x=x, y=y, name=name)\n\u001b[0m\u001b[1;32m  10856\u001b[0m   \u001b[0m_result\u001b[0m \u001b[0;34m=\u001b[0m \u001b[0m_op\u001b[0m\u001b[0;34m.\u001b[0m\u001b[0moutputs\u001b[0m\u001b[0;34m[\u001b[0m\u001b[0;34m:\u001b[0m\u001b[0;34m]\u001b[0m\u001b[0;34m\u001b[0m\u001b[0;34m\u001b[0m\u001b[0m\n\u001b[1;32m  10857\u001b[0m   \u001b[0m_inputs_flat\u001b[0m \u001b[0;34m=\u001b[0m \u001b[0m_op\u001b[0m\u001b[0;34m.\u001b[0m\u001b[0minputs\u001b[0m\u001b[0;34m\u001b[0m\u001b[0;34m\u001b[0m\u001b[0m\n",
      "\u001b[0;32m/usr/local/lib/python3.6/dist-packages/tensorflow/python/framework/op_def_library.py\u001b[0m in \u001b[0;36m_apply_op_helper\u001b[0;34m(self, op_type_name, name, **keywords)\u001b[0m\n\u001b[1;32m    561\u001b[0m                   \u001b[0;34m\"%s type %s of argument '%s'.\"\u001b[0m \u001b[0;34m%\u001b[0m\u001b[0;34m\u001b[0m\u001b[0;34m\u001b[0m\u001b[0m\n\u001b[1;32m    562\u001b[0m                   (prefix, dtypes.as_dtype(attrs[input_arg.type_attr]).name,\n\u001b[0;32m--> 563\u001b[0;31m                    inferred_from[input_arg.type_attr]))\n\u001b[0m\u001b[1;32m    564\u001b[0m \u001b[0;34m\u001b[0m\u001b[0m\n\u001b[1;32m    565\u001b[0m           \u001b[0mtypes\u001b[0m \u001b[0;34m=\u001b[0m \u001b[0;34m[\u001b[0m\u001b[0mvalues\u001b[0m\u001b[0;34m.\u001b[0m\u001b[0mdtype\u001b[0m\u001b[0;34m]\u001b[0m\u001b[0;34m\u001b[0m\u001b[0;34m\u001b[0m\u001b[0m\n",
      "\u001b[0;31mTypeError\u001b[0m: Input 'y' of 'Sub' Op has type int32 that does not match type float32 of argument 'x'."
     ]
    }
   ],
   "source": [
    "# For typecasting\n",
    "\n",
    "c = tf.subtract(tf.constant(2.0),tf.constant(1))\n",
    "\n",
    "with tf.Session() as sess:\n",
    "  op = sess.run(c)\n",
    "  print(op)"
   ]
  },
  {
   "cell_type": "code",
   "execution_count": 42,
   "metadata": {
    "colab": {
     "base_uri": "https://localhost:8080/"
    },
    "id": "1qI235W8JJU_",
    "outputId": "8036ae52-ab0e-463b-dcee-000c3ee58651"
   },
   "outputs": [
    {
     "name": "stdout",
     "output_type": "stream",
     "text": [
      "1\n"
     ]
    }
   ],
   "source": [
    "#type casted\n",
    "\n",
    "c = tf.subtract(tf.cast(tf.constant(2.0),tf.int32),tf.constant(1))\n",
    "\n",
    "with tf.Session() as sess:\n",
    "  op = sess.run(c)\n",
    "  print(op)"
   ]
  },
  {
   "cell_type": "code",
   "execution_count": 46,
   "metadata": {
    "colab": {
     "base_uri": "https://localhost:8080/"
    },
    "id": "IYENFvMZJT_O",
    "outputId": "ad59e1d3-e229-44a7-9309-770dc1fe84e4"
   },
   "outputs": [
    {
     "name": "stdout",
     "output_type": "stream",
     "text": [
      "2.5\n"
     ]
    }
   ],
   "source": [
    "x = tf.constant(10)\n",
    "y = tf.constant(2)\n",
    "z = tf.subtract(tf.divide(x,y),2.5)\n",
    "\n",
    "with tf.Session() as sess:\n",
    "  op = sess.run(z)\n",
    "  print(op)"
   ]
  },
  {
   "cell_type": "code",
   "execution_count": 48,
   "metadata": {
    "id": "wHSnNnFbKCwV"
   },
   "outputs": [],
   "source": [
    "x = tf.Variable(5)\n",
    "\n",
    "init = tf.global_variables_initializer()\n",
    "with tf.Session() as sess:\n",
    "  sess.run(init)"
   ]
  },
  {
   "cell_type": "code",
   "execution_count": 55,
   "metadata": {
    "colab": {
     "base_uri": "https://localhost:8080/"
    },
    "id": "oQqs8EbMMHNX",
    "outputId": "9f6f59b2-326c-409b-8042-394b4a86ee13"
   },
   "outputs": [
    {
     "name": "stdout",
     "output_type": "stream",
     "text": [
      "[[ 5.52164793e-01  6.98921502e-01  4.00306642e-01 -1.81291074e-01\n",
      "   6.99219882e-01]\n",
      " [ 5.23275256e-01  1.14178777e+00  4.14895445e-01 -2.17147157e-01\n",
      "   9.19940531e-01]\n",
      " [-3.73470820e-02  8.27839434e-01 -8.54938090e-01 -1.85435748e+00\n",
      "  -4.33522612e-01]\n",
      " [-8.56096089e-01 -8.26695442e-01 -1.68992376e+00 -5.59361994e-01\n",
      "  -1.43239170e-01]\n",
      " [ 9.58097398e-01 -4.88134563e-01 -9.67223227e-01  1.16011307e-01\n",
      "  -2.92263687e-01]\n",
      " [ 6.52517498e-01 -1.30669284e+00 -8.94966602e-01  4.89896417e-01\n",
      "  -1.02020359e+00]\n",
      " [ 1.20766640e+00  7.69566834e-01  6.30374372e-01  1.11796403e+00\n",
      "   1.24455452e-01]\n",
      " [-2.77508318e-01  1.05943334e+00  6.66480064e-01  1.20810950e+00\n",
      "  -6.78753972e-01]\n",
      " [-1.27424037e+00 -3.73851061e-02 -2.39777550e-01 -1.32252332e-02\n",
      "   9.63814974e-01]\n",
      " [-1.22759247e+00  8.92380118e-01  4.44423109e-01  1.16543853e+00\n",
      "  -1.66604638e+00]\n",
      " [ 6.15317047e-01  3.98813069e-01 -1.38551307e+00 -1.07715476e+00\n",
      "  -6.62355781e-01]\n",
      " [-6.03956938e-01 -3.85830253e-01  1.34415090e+00  5.63434243e-01\n",
      "  -2.82247692e-01]\n",
      " [ 2.83861041e-01 -9.40866351e-01 -6.23428643e-01  8.92863929e-01\n",
      "  -7.37047732e-01]\n",
      " [ 1.39663088e+00  3.43224794e-01  1.04070413e+00 -8.05371284e-01\n",
      "   7.73218989e-01]\n",
      " [ 8.45976472e-01 -5.35497487e-01  4.29832846e-01  8.41651082e-01\n",
      "  -1.02052605e+00]\n",
      " [ 7.64428914e-01  1.41453612e+00 -2.96801537e-01 -1.71081221e+00\n",
      "   5.82930148e-01]\n",
      " [-1.07182384e+00  5.86438894e-01 -1.92948237e-01  6.87371314e-01\n",
      "   9.09413248e-02]\n",
      " [-1.30871460e-01 -8.73691887e-02  7.13471234e-01 -1.06181300e+00\n",
      "  -1.52949500e+00]\n",
      " [-2.63601512e-01  3.73990119e-01  1.15459311e+00 -1.45130530e-01\n",
      "   1.00295627e+00]\n",
      " [-6.52656078e-01  7.95947433e-01 -9.49495509e-02  5.98140657e-01\n",
      "  -6.40568852e-01]\n",
      " [-1.50736594e+00 -1.19674742e+00 -1.11946213e+00  6.10311031e-01\n",
      "  -2.40357772e-01]\n",
      " [ 7.59984195e-01 -8.72442365e-01  1.38910425e+00  7.66313016e-01\n",
      "   5.50583601e-01]\n",
      " [-2.32673958e-01  6.83360815e-01 -2.16001719e-02  1.65905595e-01\n",
      "  -1.38813496e+00]\n",
      " [-8.66851151e-01 -1.03965127e+00  2.29387030e-01  7.75826931e-01\n",
      "   2.64766932e-01]\n",
      " [-7.67489254e-01 -8.83868575e-01 -4.91738886e-01  1.14088345e+00\n",
      "  -2.91676015e-01]\n",
      " [-2.81455815e-01  2.19771519e-01  8.77672732e-01  6.93321407e-01\n",
      "   1.37935555e+00]\n",
      " [-8.39502096e-01  1.54103971e+00  6.79242134e-01  3.44464600e-01\n",
      "  -4.38790798e-01]\n",
      " [ 6.69856906e-01  1.58408105e+00 -4.99249309e-01  1.05441320e+00\n",
      "   1.49686372e+00]\n",
      " [ 4.51500803e-01  5.05549349e-02 -2.81173971e-06  8.88943017e-01\n",
      "  -9.45387065e-01]\n",
      " [ 1.04909027e+00 -4.10053879e-01 -9.44656849e-01  9.00369763e-01\n",
      "  -6.04911745e-02]\n",
      " [-3.72895777e-01 -2.02011198e-01  1.40377772e+00 -1.05332458e+00\n",
      "  -4.74518478e-01]\n",
      " [ 9.13835585e-01  1.61291969e+00  2.29373008e-01  1.71441153e-01\n",
      "  -4.77593601e-01]\n",
      " [ 1.62053168e+00  1.24915981e+00 -5.66533267e-01 -5.03236175e-01\n",
      "   4.62885141e-01]\n",
      " [-1.15711987e-01 -4.62140203e-01  4.40957755e-01  2.59121895e-01\n",
      "   3.90452355e-01]\n",
      " [ 1.86392143e-01  6.66784048e-01  9.13073182e-01 -4.32856143e-01\n",
      "  -7.42632091e-01]\n",
      " [-1.14089787e+00 -6.49451435e-01 -8.24178994e-01 -1.33514297e+00\n",
      "  -1.74738288e+00]\n",
      " [-9.28440034e-01 -1.32895803e+00 -8.84214103e-01 -6.11037910e-01\n",
      "  -1.34048688e+00]\n",
      " [-1.33187807e+00 -1.71254790e+00 -3.37963589e-02  6.68216050e-01\n",
      "   1.75823486e+00]\n",
      " [ 8.46142054e-01 -5.35163820e-01 -8.56204927e-01  7.08748758e-01\n",
      "  -4.19956073e-02]\n",
      " [ 1.74660003e+00 -2.29866579e-01 -4.39072013e-01 -2.42984854e-03\n",
      "  -4.83754694e-01]\n",
      " [-9.16670084e-01 -9.02254462e-01  7.54320681e-01 -3.71670097e-01\n",
      "  -1.13354337e+00]\n",
      " [-1.07420492e+00  6.85124278e-01 -3.77151251e-01  1.58666074e-01\n",
      "  -9.96052146e-01]\n",
      " [-1.59052289e+00  1.52517402e+00  8.08214486e-01  1.38266951e-01\n",
      "   9.23878968e-01]\n",
      " [-1.64171815e+00 -1.15526371e-01  6.03577793e-01 -3.19085807e-01\n",
      "  -1.33025646e-01]\n",
      " [-1.35101415e-02 -1.15810585e+00 -7.10586548e-01  6.63992822e-01\n",
      "  -6.61604619e-03]\n",
      " [ 1.02232802e+00  1.85353607e-01  8.25608075e-01  1.55221629e+00\n",
      "   9.80378166e-02]\n",
      " [-7.35485435e-01  1.57434416e+00 -1.27149627e-01 -2.68644273e-01\n",
      "   9.80357766e-01]\n",
      " [-3.29114944e-01  4.11799520e-01  2.70454854e-01  1.12056291e+00\n",
      "  -1.09433806e+00]\n",
      " [ 7.84761608e-01  1.06616175e+00 -5.90801276e-02  5.16081810e-01\n",
      "  -1.52992857e+00]\n",
      " [-1.38540432e-01 -1.04809320e+00  1.48595190e+00  6.15671635e-01\n",
      "   6.93773389e-01]\n",
      " [ 1.10777974e+00  1.22705519e+00 -8.28318954e-01  1.43541694e+00\n",
      "   2.80029505e-01]\n",
      " [-8.56787503e-01 -2.80164868e-01 -1.10214138e+00 -3.17758024e-01\n",
      "  -3.77585500e-01]\n",
      " [-8.26847136e-01 -9.74528909e-01  4.63260144e-01  1.59952950e+00\n",
      "  -4.30833042e-01]\n",
      " [-8.72330606e-01  5.03956139e-01 -3.23748827e-01  4.82491702e-01\n",
      "   8.64933848e-01]\n",
      " [ 5.26954472e-01  1.74866259e+00  1.38186052e-01  1.71557450e+00\n",
      "  -3.69705819e-02]\n",
      " [-3.38110954e-01 -3.16141486e-01 -6.17874265e-01 -7.81536222e-01\n",
      "   2.86099970e-01]\n",
      " [-1.00725317e+00 -1.13454688e+00 -1.23173487e+00 -1.67061222e+00\n",
      "  -2.06824601e-01]\n",
      " [ 2.78659463e-01  6.27446532e-01 -1.28088951e+00 -5.52363873e-01\n",
      "   1.79010367e+00]\n",
      " [ 7.25571811e-01 -7.90057421e-01 -3.91195118e-01  1.59471548e+00\n",
      "  -4.12781566e-01]\n",
      " [-7.20702708e-01  2.06075400e-01 -1.25621963e+00  9.60987389e-01\n",
      "   7.08446085e-01]\n",
      " [ 9.87981081e-01 -9.28507209e-01 -1.44960833e+00 -5.40842474e-01\n",
      "   9.07758951e-01]\n",
      " [ 1.30983531e+00 -8.93856645e-01 -1.67766404e+00 -3.14845353e-01\n",
      "  -1.25959623e+00]\n",
      " [-8.32460225e-01  8.01361203e-01  4.72016752e-01 -3.25615615e-01\n",
      "   1.41714036e+00]\n",
      " [-1.25761163e+00 -1.57427192e+00  5.44898272e-01  1.11740208e+00\n",
      "   4.01477098e-01]\n",
      " [-5.72133482e-01  2.83174783e-01 -3.69852073e-02 -2.42140725e-01\n",
      "   7.42262304e-02]\n",
      " [ 2.89923429e-01 -6.91104174e-01  4.26337212e-01 -6.90666661e-02\n",
      "   1.21551967e+00]\n",
      " [ 1.44056201e+00 -7.05464110e-02  1.05404198e+00  1.73979664e+00\n",
      "   5.99870205e-01]\n",
      " [-1.03449211e-01  1.78240627e-01  5.75993419e-01 -6.35527194e-01\n",
      "   6.15197778e-01]\n",
      " [ 1.51496267e+00  5.83085001e-01  1.00908434e+00 -4.55634505e-01\n",
      "  -4.12368357e-01]\n",
      " [ 1.09065682e-01 -1.01432896e+00  7.45410740e-01 -8.73259723e-01\n",
      "   3.84635985e-01]\n",
      " [-9.05797601e-01 -2.48030871e-01  2.74163783e-01 -7.23842531e-02\n",
      "  -2.35637203e-02]\n",
      " [ 8.34736645e-01 -1.28355491e+00 -2.29356974e-01  1.33862889e+00\n",
      "   1.12701142e+00]\n",
      " [-1.20915580e+00 -9.82745945e-01  1.17915559e+00  1.69159129e-01\n",
      "  -2.70178080e-01]\n",
      " [-1.30678415e+00  1.47219372e+00 -1.95134163e+00 -1.10774374e+00\n",
      "  -1.76868069e+00]\n",
      " [-2.46865809e-01  2.41845280e-01 -3.66458565e-01 -1.33780241e+00\n",
      "  -6.03429377e-01]\n",
      " [-4.06957537e-01 -7.85644591e-01  3.07556659e-01  6.60712779e-01\n",
      "   2.66145378e-01]\n",
      " [ 1.39489377e+00 -9.50367451e-01 -5.63513875e-01  8.51983190e-01\n",
      "  -1.39914262e+00]\n",
      " [-5.72814763e-01  1.40917921e+00 -8.03573012e-01 -1.57939136e+00\n",
      "   6.88019097e-02]\n",
      " [ 6.62601948e-01 -5.11846125e-01 -1.72202671e+00 -6.06405795e-01\n",
      "   7.14142084e-01]\n",
      " [-3.43547225e-01  5.54739475e-01 -4.92389768e-01  9.28363919e-01\n",
      "  -1.34683084e+00]\n",
      " [-8.05920586e-02 -7.41870761e-01  1.19382930e+00  1.77862003e-01\n",
      "  -2.15697944e-01]\n",
      " [-1.19270492e+00  4.87394840e-01  4.43800658e-01  6.90248787e-01\n",
      "  -3.63940120e-01]\n",
      " [ 1.54141903e+00 -3.13351117e-02  9.21795964e-01  2.02787280e-01\n",
      "  -1.83734417e+00]\n",
      " [-1.28627384e+00 -1.06381071e+00  5.53356290e-01 -1.33652699e+00\n",
      "   5.94050169e-01]\n",
      " [-4.21403162e-02  5.63567460e-01 -5.39233148e-01 -1.80607975e+00\n",
      "  -5.81110239e-01]\n",
      " [-1.62267637e+00 -3.54780406e-02  3.77919346e-01  3.06688339e-01\n",
      "   1.45746842e-01]\n",
      " [-4.00888287e-02  1.09762704e+00 -6.53717935e-01  6.40567958e-01\n",
      "  -7.87998796e-01]\n",
      " [ 1.70745894e-01 -4.35894132e-01 -1.17420316e+00 -1.76502311e+00\n",
      "   3.72318566e-01]\n",
      " [ 1.94158047e-01  2.91553289e-01 -1.02789134e-01  1.18270791e+00\n",
      "  -1.37101889e+00]\n",
      " [ 1.04140604e+00 -5.73998094e-01  1.84480882e+00 -4.22043055e-01\n",
      "   1.39982402e+00]\n",
      " [ 4.45126951e-01  3.34935337e-01  3.56676817e-01  2.46598437e-01\n",
      "   1.66222915e-01]\n",
      " [ 4.54682261e-01  4.10319149e-01  1.97726041e-01  1.01482666e+00\n",
      "   7.32846141e-01]\n",
      " [-5.04686117e-01  8.62253487e-01 -1.01520467e+00 -1.08806682e+00\n",
      "   4.73619625e-02]\n",
      " [-3.73742670e-01  1.05491483e+00  6.49092197e-02  5.66769421e-01\n",
      "   9.95472908e-01]\n",
      " [-8.63957047e-01 -1.30489683e+00 -8.58883917e-01 -1.55624545e+00\n",
      "  -9.81079638e-01]\n",
      " [-1.05371766e-01 -1.80466831e-01  1.85022414e+00  8.88951957e-01\n",
      "  -1.93579629e-01]\n",
      " [-1.18666999e-01  1.39889491e+00 -1.77501535e+00  2.39535600e-01\n",
      "  -1.29079020e+00]\n",
      " [ 2.22125620e-01 -3.74183685e-01  8.08870614e-01 -9.11091685e-01\n",
      "   7.61771679e-01]\n",
      " [-1.37831569e+00 -6.62707448e-01  7.92527795e-02  1.71554685e+00\n",
      "  -1.22084953e-02]\n",
      " [ 3.35962385e-01 -1.72109365e-01 -5.18831491e-01  4.10170346e-01\n",
      "   2.47020274e-01]\n",
      " [ 1.41621721e+00 -1.63974714e+00 -5.16622722e-01  1.59713495e+00\n",
      "  -1.65351355e+00]\n",
      " [ 6.21143341e-01 -1.08676648e+00 -2.11961210e-01  5.88034391e-02\n",
      "  -9.36054468e-01]\n",
      " [-1.18284571e+00  8.59222710e-01 -9.37259756e-03  3.41993868e-01\n",
      "  -1.36923635e+00]\n",
      " [-4.91711050e-01 -2.07373992e-01  7.35165417e-01  9.87817585e-01\n",
      "  -4.81798410e-01]\n",
      " [ 9.89497662e-01  1.28843772e+00 -6.08028956e-02 -1.84724760e+00\n",
      "   1.91980755e+00]\n",
      " [-8.40788960e-01  2.39049062e-01  1.91646183e+00 -1.04737794e+00\n",
      "  -1.88702315e-01]\n",
      " [-6.79640174e-01 -6.44561231e-01 -1.42634225e+00  1.33793378e+00\n",
      "   2.25993097e-01]\n",
      " [-4.01745260e-01  2.95059860e-01 -6.79662466e-01  8.84552419e-01\n",
      "  -7.66458571e-01]\n",
      " [ 1.24672520e+00  1.25135213e-01 -1.06734991e+00  1.37938821e+00\n",
      "   2.75065184e-01]\n",
      " [ 3.65844995e-01  9.63861123e-02  1.13018644e+00 -6.61154240e-02\n",
      "  -3.95496428e-01]\n",
      " [ 3.38472903e-01 -2.19828025e-01 -4.33441103e-01  1.79750788e+00\n",
      "  -7.62101114e-01]\n",
      " [ 1.24562681e+00  1.34902108e+00 -9.47659075e-01 -9.85204697e-01\n",
      "   1.72747336e-02]\n",
      " [ 4.24933583e-01 -1.84645012e-01 -5.35158552e-02  7.01765120e-01\n",
      "   5.05119443e-01]\n",
      " [ 1.65412390e+00  6.68589890e-01  9.21209455e-01  5.51710874e-02\n",
      "  -1.19091225e+00]\n",
      " [-1.94311523e+00  1.79940057e+00  6.44136131e-01 -1.53646600e+00\n",
      "  -1.73399234e+00]\n",
      " [-3.99132699e-01  9.33676302e-01  7.81753719e-01 -3.59111309e-01\n",
      "  -5.78262389e-01]\n",
      " [-8.57650936e-01 -3.98418546e-01  5.64181805e-01 -9.95148480e-01\n",
      "  -9.81420219e-01]\n",
      " [-1.39122152e+00  1.64912844e+00 -7.61559308e-01 -1.25768983e+00\n",
      "  -6.94512308e-01]\n",
      " [ 1.26186705e+00  6.30158007e-01  1.32015729e+00 -2.60500342e-01\n",
      "   2.95782268e-01]\n",
      " [-7.56400287e-01  1.30027592e-01 -3.22113127e-01  3.26420486e-01\n",
      "   5.44255733e-01]]\n"
     ]
    }
   ],
   "source": [
    "features = 120\n",
    "labels = 5\n",
    "weights = tf.Variable(tf.truncated_normal((features,labels)))\n",
    "weights\n",
    "init = tf.global_variables_initializer()\n",
    "with tf.Session() as sess:\n",
    "  sess.run(init)\n",
    "  b = sess.run(weights)\n",
    "  print(b)"
   ]
  },
  {
   "cell_type": "code",
   "execution_count": 54,
   "metadata": {
    "colab": {
     "base_uri": "https://localhost:8080/"
    },
    "id": "FUrwQuNlNLLM",
    "outputId": "e3d0c159-f8e3-44e5-b173-1eb782d3ed31"
   },
   "outputs": [
    {
     "name": "stdout",
     "output_type": "stream",
     "text": [
      "[0. 0. 0. 0. 0.]\n"
     ]
    }
   ],
   "source": [
    "x = 5 \n",
    "bias = tf.Variable(tf.zeros(x))\n",
    "init = tf.global_variables_initializer()\n",
    "with tf.Session() as sess:\n",
    "  sess.run(init)\n",
    "  b = sess.run(bias)\n",
    "  print(b)"
   ]
  },
  {
   "cell_type": "code",
   "execution_count": 56,
   "metadata": {
    "id": "O7n4jjDQOrag"
   },
   "outputs": [],
   "source": [
    "# For softmax activation function\n",
    "\n",
    "x = tf.nn.softmax([2.0,1.0,0.2])"
   ]
  },
  {
   "cell_type": "code",
   "execution_count": 59,
   "metadata": {
    "colab": {
     "base_uri": "https://localhost:8080/"
    },
    "id": "wCTXVgVRPiK9",
    "outputId": "d6b8680b-bdc3-4d7c-b506-fa819b90a1b8"
   },
   "outputs": [
    {
     "name": "stdout",
     "output_type": "stream",
     "text": [
      "[0.         0.33333334 0.33333334 0.         0.33333334 0.        ]\n"
     ]
    }
   ],
   "source": [
    "def run_2():\n",
    "  output = None\n",
    "  logit_data = [19,354,354,45,354,54]\n",
    "  logits = tf.placeholder(tf.float32)\n",
    "\n",
    "  softmax = tf.nn.softmax(logits)\n",
    "\n",
    "  with tf.Session() as sess:\n",
    "    output = sess.run(softmax, feed_dict={logits: logit_data})\n",
    "  return output\n",
    "\n",
    "print(run_2())"
   ]
  },
  {
   "cell_type": "code",
   "execution_count": null,
   "metadata": {
    "id": "QPz8zyvzfr8q"
   },
   "outputs": [],
   "source": [
    "\n",
    "\n"
   ]
  }
 ],
 "metadata": {
  "colab": {
   "collapsed_sections": [],
   "name": "Tensorflow1.xxx.ipynb",
   "provenance": []
  },
  "kernelspec": {
   "display_name": "Python 3",
   "language": "python",
   "name": "python3"
  },
  "language_info": {
   "codemirror_mode": {
    "name": "ipython",
    "version": 3
   },
   "file_extension": ".py",
   "mimetype": "text/x-python",
   "name": "python",
   "nbconvert_exporter": "python",
   "pygments_lexer": "ipython3",
   "version": "3.7.4"
  }
 },
 "nbformat": 4,
 "nbformat_minor": 1
}
