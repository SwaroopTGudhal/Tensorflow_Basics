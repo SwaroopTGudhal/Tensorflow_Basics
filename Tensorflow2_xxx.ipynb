{
 "cells": [
  {
   "cell_type": "code",
   "execution_count": 1,
   "metadata": {
    "id": "gGoFC-Jd82qu"
   },
   "outputs": [],
   "source": [
    "\n",
    "import tensorflow as tf"
   ]
  },
  {
   "cell_type": "code",
   "execution_count": 2,
   "metadata": {
    "colab": {
     "base_uri": "https://localhost:8080/",
     "height": 35
    },
    "id": "WA5CL1Iu9EW4",
    "outputId": "f46e1e27-0cbc-477e-fb2d-d785100d2762"
   },
   "outputs": [
    {
     "data": {
      "text/plain": [
       "'2.2.0'"
      ]
     },
     "execution_count": 2,
     "metadata": {},
     "output_type": "execute_result"
    }
   ],
   "source": [
    "tf.__version__"
   ]
  },
  {
   "cell_type": "code",
   "execution_count": 3,
   "metadata": {
    "id": "FrZKR4L89PLF"
   },
   "outputs": [],
   "source": [
    "import numpy as np\n",
    "import pandas as pd"
   ]
  },
  {
   "cell_type": "code",
   "execution_count": 4,
   "metadata": {
    "colab": {
     "base_uri": "https://localhost:8080/",
     "height": 35
    },
    "id": "IhJeRFMM9V3W",
    "outputId": "2f370ca2-7c6a-4f00-b618-8077979968b4"
   },
   "outputs": [
    {
     "data": {
      "text/plain": [
       "'1.19.5'"
      ]
     },
     "execution_count": 4,
     "metadata": {},
     "output_type": "execute_result"
    }
   ],
   "source": [
    "np.__version__"
   ]
  },
  {
   "cell_type": "code",
   "execution_count": 5,
   "metadata": {
    "colab": {
     "base_uri": "https://localhost:8080/",
     "height": 35
    },
    "id": "8o4hOyIQ9YUN",
    "outputId": "7378df11-70aa-4e9a-ef46-90b94b43ffc6"
   },
   "outputs": [
    {
     "data": {
      "text/plain": [
       "'1.1.5'"
      ]
     },
     "execution_count": 5,
     "metadata": {},
     "output_type": "execute_result"
    }
   ],
   "source": [
    "pd.__version__"
   ]
  },
  {
   "cell_type": "code",
   "execution_count": 6,
   "metadata": {
    "colab": {
     "base_uri": "https://localhost:8080/"
    },
    "id": "QVvalpJp9fUV",
    "outputId": "c6c47bdd-b74e-4686-9f61-2dea9a4cba7b"
   },
   "outputs": [
    {
     "name": "stdout",
     "output_type": "stream",
     "text": [
      "Tensorflow version: 2.2.0\n",
      "Keras version: 2.3.0-tf\n"
     ]
    }
   ],
   "source": [
    "# to check the version of tensorflow and keras\n",
    "\n",
    "print(\"Tensorflow version:\", tf.__version__)\n",
    "print(\"Keras version:\", tf.keras.__version__)"
   ]
  },
  {
   "cell_type": "code",
   "execution_count": 8,
   "metadata": {
    "colab": {
     "base_uri": "https://localhost:8080/"
    },
    "id": "DlygkNb19zqD",
    "outputId": "8a287621-7f9d-493d-a934-131a57b88b7d"
   },
   "outputs": [
    {
     "name": "stdout",
     "output_type": "stream",
     "text": [
      "GPU\n",
      "GPU #0?\n",
      "False\n"
     ]
    }
   ],
   "source": [
    "# to check if code is run by GPU or CPU\n",
    "\n",
    "var = tf.Variable([3,3])\n",
    "if tf.test.is_gpu_available():\n",
    "  print(\"GPU\")\n",
    "  print(\"GPU #0?\")\n",
    "  print(var.device.endswith(\"GPU:0\"))\n",
    "else:\n",
    "  print(\"CPU\")"
   ]
  },
  {
   "cell_type": "code",
   "execution_count": 9,
   "metadata": {
    "id": "YtHEZqcoAE_R"
   },
   "outputs": [
    {
     "data": {
      "text/plain": [
       "True"
      ]
     },
     "execution_count": 9,
     "metadata": {},
     "output_type": "execute_result"
    }
   ],
   "source": [
    "tf.test.is_gpu_available(cuda_only=False, min_cuda_compute_capability=None)"
   ]
  },
  {
   "cell_type": "code",
   "execution_count": 10,
   "metadata": {},
   "outputs": [
    {
     "data": {
      "text/plain": [
       "[PhysicalDevice(name='/physical_device:GPU:0', device_type='GPU')]"
      ]
     },
     "execution_count": 10,
     "metadata": {},
     "output_type": "execute_result"
    }
   ],
   "source": [
    "tf.config.list_physical_devices('GPU')"
   ]
  },
  {
   "cell_type": "code",
   "execution_count": 12,
   "metadata": {
    "id": "2MLdX3T8_5Vz"
   },
   "outputs": [],
   "source": [
    "# Tensorflow basics"
   ]
  },
  {
   "cell_type": "code",
   "execution_count": 11,
   "metadata": {
    "colab": {
     "base_uri": "https://localhost:8080/"
    },
    "id": "_e2L9TrV-mMv",
    "outputId": "153d34ed-deac-44d9-de24-f7c2f810a99a"
   },
   "outputs": [
    {
     "data": {
      "text/plain": [
       "<tf.Tensor: shape=(), dtype=int32, numpy=42>"
      ]
     },
     "execution_count": 11,
     "metadata": {},
     "output_type": "execute_result"
    }
   ],
   "source": [
    "x = tf.constant(42)\n",
    "x"
   ]
  },
  {
   "cell_type": "code",
   "execution_count": 12,
   "metadata": {
    "colab": {
     "base_uri": "https://localhost:8080/"
    },
    "id": "oqQ0-hS6_kbt",
    "outputId": "ed112912-eb9e-4b29-da3e-a855f1986121"
   },
   "outputs": [
    {
     "data": {
      "text/plain": [
       "42"
      ]
     },
     "execution_count": 12,
     "metadata": {},
     "output_type": "execute_result"
    }
   ],
   "source": [
    "# in TF 1.x we used to call Session() and sess.rn()\n",
    "# in TF 2.x the thing is handled without those\n",
    "\n",
    "x.numpy()"
   ]
  },
  {
   "cell_type": "code",
   "execution_count": 13,
   "metadata": {},
   "outputs": [
    {
     "name": "stderr",
     "output_type": "stream",
     "text": [
      "'nvidia-smi' is not recognized as an internal or external command,\n",
      "operable program or batch file.\n"
     ]
    }
   ],
   "source": [
    "!nvidia-smi"
   ]
  },
  {
   "cell_type": "code",
   "execution_count": 14,
   "metadata": {
    "colab": {
     "base_uri": "https://localhost:8080/"
    },
    "id": "6WSfvTix_nmS",
    "outputId": "704bbde3-e02f-4228-93bb-fb5d967de37b"
   },
   "outputs": [
    {
     "data": {
      "text/plain": [
       "<tf.Tensor: shape=(3,), dtype=int64, numpy=array([1, 1, 2], dtype=int64)>"
      ]
     },
     "execution_count": 14,
     "metadata": {},
     "output_type": "execute_result"
    }
   ],
   "source": [
    "x = tf.constant([1,1,2] ,dtype = tf.int64)\n",
    "x"
   ]
  },
  {
   "cell_type": "code",
   "execution_count": 15,
   "metadata": {
    "colab": {
     "base_uri": "https://localhost:8080/"
    },
    "id": "v7rR_QB__0yh",
    "outputId": "7deed5dc-670e-4e61-a411-f22292bb152a"
   },
   "outputs": [
    {
     "data": {
      "text/plain": [
       "array([1, 1, 2], dtype=int64)"
      ]
     },
     "execution_count": 15,
     "metadata": {},
     "output_type": "execute_result"
    }
   ],
   "source": [
    "x.numpy()"
   ]
  },
  {
   "cell_type": "code",
   "execution_count": 16,
   "metadata": {
    "colab": {
     "base_uri": "https://localhost:8080/"
    },
    "id": "HXBdx9d4_28x",
    "outputId": "14fdad05-2ffc-4034-af4a-8ef31ae916e1"
   },
   "outputs": [
    {
     "data": {
      "text/plain": [
       "<tf.Tensor: shape=(2, 2), dtype=int32, numpy=\n",
       "array([[4, 2],\n",
       "       [9, 5]])>"
      ]
     },
     "execution_count": 16,
     "metadata": {},
     "output_type": "execute_result"
    }
   ],
   "source": [
    "x = tf.constant([[4,2],[9,5]])\n",
    "x"
   ]
  },
  {
   "cell_type": "code",
   "execution_count": 17,
   "metadata": {
    "colab": {
     "base_uri": "https://localhost:8080/"
    },
    "id": "AwAuu1EwALtv",
    "outputId": "f5e684d8-5d48-4438-ac67-9a23b07d9e1d"
   },
   "outputs": [
    {
     "data": {
      "text/plain": [
       "array([[4, 2],\n",
       "       [9, 5]])"
      ]
     },
     "execution_count": 17,
     "metadata": {},
     "output_type": "execute_result"
    }
   ],
   "source": [
    "x.numpy()"
   ]
  },
  {
   "cell_type": "code",
   "execution_count": 18,
   "metadata": {
    "colab": {
     "base_uri": "https://localhost:8080/"
    },
    "id": "ksuT4KOZEBxU",
    "outputId": "8054aafd-3974-4642-ff03-e68addd7fa68"
   },
   "outputs": [
    {
     "data": {
      "text/plain": [
       "<tf.Tensor: shape=(3, 3), dtype=int32, numpy=\n",
       "array([[1, 2, 3],\n",
       "       [4, 5, 6],\n",
       "       [7, 8, 9]])>"
      ]
     },
     "execution_count": 18,
     "metadata": {},
     "output_type": "execute_result"
    }
   ],
   "source": [
    "# converting numpy array to tensor and vice-versa\n",
    "\n",
    "x_ten = tf.constant([[1,2,3],[4,5,6],[7,8,9]])\n",
    "x_ten"
   ]
  },
  {
   "cell_type": "code",
   "execution_count": 19,
   "metadata": {
    "colab": {
     "base_uri": "https://localhost:8080/"
    },
    "id": "dShrxE-qE9ry",
    "outputId": "20cdc686-fe9a-4ceb-c2f8-e1504370bcfc"
   },
   "outputs": [
    {
     "data": {
      "text/plain": [
       "array([[1, 2, 3],\n",
       "       [4, 5, 6],\n",
       "       [7, 8, 9]])"
      ]
     },
     "execution_count": 19,
     "metadata": {},
     "output_type": "execute_result"
    }
   ],
   "source": [
    "# x_ten is a tensor. to convert to numpy:\n",
    "\n",
    "x_num = x_ten.numpy()\n",
    "x_num"
   ]
  },
  {
   "cell_type": "code",
   "execution_count": 20,
   "metadata": {
    "colab": {
     "base_uri": "https://localhost:8080/"
    },
    "id": "1Vnt73XBFMc-",
    "outputId": "479c351d-402d-4b17-c6c9-690aaad31d1d"
   },
   "outputs": [
    {
     "data": {
      "text/plain": [
       "<tf.Tensor: shape=(3, 3), dtype=int32, numpy=\n",
       "array([[1, 2, 3],\n",
       "       [4, 5, 6],\n",
       "       [7, 8, 9]])>"
      ]
     },
     "execution_count": 20,
     "metadata": {},
     "output_type": "execute_result"
    }
   ],
   "source": [
    "# x_num is a numpy array. To convert to tensor:\n",
    "\n",
    "x_tennew = tf.constant(x_num)\n",
    "x_tennew"
   ]
  },
  {
   "cell_type": "code",
   "execution_count": 21,
   "metadata": {
    "colab": {
     "base_uri": "https://localhost:8080/"
    },
    "id": "y-0LxUOPFZOl",
    "outputId": "a9cab40c-765e-4616-cdad-073b596c431c"
   },
   "outputs": [
    {
     "name": "stdout",
     "output_type": "stream",
     "text": [
      "shape: (3, 3)\n",
      "Data type: <dtype: 'int32'>\n"
     ]
    }
   ],
   "source": [
    "print(\"shape:\", x_tennew.shape)\n",
    "print(\"Data type:\", x_tennew.dtype)"
   ]
  },
  {
   "cell_type": "code",
   "execution_count": 22,
   "metadata": {
    "colab": {
     "base_uri": "https://localhost:8080/"
    },
    "id": "CE2yYkDEGcaT",
    "outputId": "8792d9b7-6080-4e75-df11-5e77f8cfb08c"
   },
   "outputs": [
    {
     "data": {
      "text/plain": [
       "<tf.Tensor: shape=(3, 4), dtype=int64, numpy=\n",
       "array([[1, 1, 1, 1],\n",
       "       [1, 1, 1, 1],\n",
       "       [1, 1, 1, 1]], dtype=int64)>"
      ]
     },
     "execution_count": 22,
     "metadata": {},
     "output_type": "execute_result"
    }
   ],
   "source": [
    "# To create an array with zeros and ones:\n",
    "# similar to np.ones and np.zeros, we have tf.ones and tf.zeros\n",
    "\n",
    "x = tf.ones([3,4], tf.int64)\n",
    "x"
   ]
  },
  {
   "cell_type": "code",
   "execution_count": 23,
   "metadata": {
    "colab": {
     "base_uri": "https://localhost:8080/"
    },
    "id": "s5jK-iPXF9cz",
    "outputId": "87dd1c09-2273-4a97-881b-14e739b9e771"
   },
   "outputs": [
    {
     "data": {
      "text/plain": [
       "<tf.Tensor: shape=(3, 4), dtype=int32, numpy=\n",
       "array([[1, 1, 1, 1],\n",
       "       [1, 1, 1, 1],\n",
       "       [1, 1, 1, 1]])>"
      ]
     },
     "execution_count": 23,
     "metadata": {},
     "output_type": "execute_result"
    }
   ],
   "source": [
    "x = tf.ones(shape=(3,4), dtype=tf.int32)\n",
    "x"
   ]
  },
  {
   "cell_type": "code",
   "execution_count": 24,
   "metadata": {
    "colab": {
     "base_uri": "https://localhost:8080/"
    },
    "id": "G6SlaEEUG9Du",
    "outputId": "1ac1cbbd-a39e-4d6d-971f-be30105f6003"
   },
   "outputs": [
    {
     "data": {
      "text/plain": [
       "<tf.Tensor: shape=(3, 4), dtype=float32, numpy=\n",
       "array([[1., 1., 1., 1.],\n",
       "       [1., 1., 1., 1.],\n",
       "       [1., 1., 1., 1.]], dtype=float32)>"
      ]
     },
     "execution_count": 24,
     "metadata": {},
     "output_type": "execute_result"
    }
   ],
   "source": [
    "x = tf.ones((3,4))\n",
    "x"
   ]
  },
  {
   "cell_type": "code",
   "execution_count": 25,
   "metadata": {
    "colab": {
     "base_uri": "https://localhost:8080/"
    },
    "id": "nF20j-ExHVEs",
    "outputId": "c74683b2-8589-4f36-e18b-18c73ba52e6b"
   },
   "outputs": [
    {
     "data": {
      "text/plain": [
       "<tf.Tensor: shape=(2, 2), dtype=int32, numpy=\n",
       "array([[0, 0],\n",
       "       [0, 0]])>"
      ]
     },
     "execution_count": 25,
     "metadata": {},
     "output_type": "execute_result"
    }
   ],
   "source": [
    "y = tf.zeros([2,2], tf.int32)\n",
    "y"
   ]
  },
  {
   "cell_type": "code",
   "execution_count": 26,
   "metadata": {
    "colab": {
     "base_uri": "https://localhost:8080/"
    },
    "id": "u7aT2Ri9Hlt6",
    "outputId": "957b1db1-d619-4aca-d9fa-425707a7f1b7"
   },
   "outputs": [
    {
     "data": {
      "text/plain": [
       "<tf.Tensor: shape=(3, 4), dtype=int32, numpy=\n",
       "array([[0, 0, 0, 0],\n",
       "       [0, 0, 0, 0],\n",
       "       [0, 0, 0, 0]])>"
      ]
     },
     "execution_count": 26,
     "metadata": {},
     "output_type": "execute_result"
    }
   ],
   "source": [
    "y = tf.zeros(shape=(3,4), dtype=tf.int32)\n",
    "y"
   ]
  },
  {
   "cell_type": "code",
   "execution_count": 27,
   "metadata": {
    "colab": {
     "base_uri": "https://localhost:8080/"
    },
    "id": "XGDzPKflHr0a",
    "outputId": "0540d0f0-c852-473d-f645-6cf3603d0044"
   },
   "outputs": [
    {
     "data": {
      "text/plain": [
       "<tf.Tensor: shape=(3, 4), dtype=float32, numpy=\n",
       "array([[0., 0., 0., 0.],\n",
       "       [0., 0., 0., 0.],\n",
       "       [0., 0., 0., 0.]], dtype=float32)>"
      ]
     },
     "execution_count": 27,
     "metadata": {},
     "output_type": "execute_result"
    }
   ],
   "source": [
    "y = tf.zeros((3,4))\n",
    "y"
   ]
  },
  {
   "cell_type": "code",
   "execution_count": null,
   "metadata": {
    "id": "Uj7K07tiHxfZ"
   },
   "outputs": [],
   "source": []
  },
  {
   "cell_type": "code",
   "execution_count": 28,
   "metadata": {
    "colab": {
     "base_uri": "https://localhost:8080/"
    },
    "id": "HzllKL8nIGKr",
    "outputId": "3f3b0361-6d3e-4b4f-d929-78f1e7b6edd1"
   },
   "outputs": [
    {
     "data": {
      "text/plain": [
       "<tf.Tensor: shape=(2, 3), dtype=int32, numpy=\n",
       "array([[5, 7, 9],\n",
       "       [5, 7, 9]])>"
      ]
     },
     "execution_count": 28,
     "metadata": {},
     "output_type": "execute_result"
    }
   ],
   "source": [
    "# elementwise operations\n",
    "\n",
    "const1 = tf.constant([[1,2,3],[4,5,6]])\n",
    "const2 = tf.constant([[4,5,6],[1,2,3]])\n",
    "result = tf.add(const1,const2)\n",
    "result"
   ]
  },
  {
   "cell_type": "code",
   "execution_count": 29,
   "metadata": {
    "colab": {
     "base_uri": "https://localhost:8080/"
    },
    "id": "JWhCfU2XIGTf",
    "outputId": "9dc33eec-fc7d-4813-bf58-3b0d2889283e"
   },
   "outputs": [
    {
     "data": {
      "text/plain": [
       "<tf.Tensor: shape=(2, 3), dtype=int32, numpy=\n",
       "array([[-3, -3, -3],\n",
       "       [ 3,  3,  3]])>"
      ]
     },
     "execution_count": 29,
     "metadata": {},
     "output_type": "execute_result"
    }
   ],
   "source": [
    "result2 = tf.subtract(const1, const2)\n",
    "result2"
   ]
  },
  {
   "cell_type": "code",
   "execution_count": 30,
   "metadata": {
    "colab": {
     "base_uri": "https://localhost:8080/"
    },
    "id": "Q-qCu6loJBas",
    "outputId": "2a503439-509b-4a52-a016-82dfcc0cdbaf"
   },
   "outputs": [
    {
     "data": {
      "text/plain": [
       "<tf.Tensor: shape=(2, 3), dtype=int32, numpy=\n",
       "array([[ 4, 10, 18],\n",
       "       [ 4, 10, 18]])>"
      ]
     },
     "execution_count": 30,
     "metadata": {},
     "output_type": "execute_result"
    }
   ],
   "source": [
    "result3 = tf.multiply(const1, const2)\n",
    "result3"
   ]
  },
  {
   "cell_type": "code",
   "execution_count": 31,
   "metadata": {
    "id": "pGD7Wm4CJRXT"
   },
   "outputs": [],
   "source": [
    "# Similarly we can persorm more operations by tf.(presstab) and select the various math op.\n",
    "\n",
    "# the same method can be used for matrix multiplication.\n",
    "\n",
    "# please keep in mind the shape of the tensor before doing the operation to avoid and error."
   ]
  },
  {
   "cell_type": "code",
   "execution_count": null,
   "metadata": {
    "id": "HWspyZ_eJtLR"
   },
   "outputs": [],
   "source": []
  },
  {
   "cell_type": "code",
   "execution_count": 32,
   "metadata": {
    "id": "mW2O24orKRxr"
   },
   "outputs": [],
   "source": [
    "# standard normal dist - mean = 0, std_div = 1.0\n",
    "# normal dist - mean = anything, std_div = anything , {both gives the bell curve}"
   ]
  },
  {
   "cell_type": "code",
   "execution_count": 33,
   "metadata": {
    "colab": {
     "base_uri": "https://localhost:8080/"
    },
    "id": "kNeSI7uWKzfh",
    "outputId": "8af939e3-7d64-4747-c3c4-699b971b31d8"
   },
   "outputs": [
    {
     "data": {
      "text/plain": [
       "<tf.Tensor: shape=(2, 2), dtype=float32, numpy=\n",
       "array([[-0.32962337,  0.61070967],\n",
       "       [ 1.4472648 ,  0.14491753]], dtype=float32)>"
      ]
     },
     "execution_count": 33,
     "metadata": {},
     "output_type": "execute_result"
    }
   ],
   "source": [
    "# to create a random values:\n",
    "\n",
    "tf.random.normal(shape=(2,2), mean = 0, stddev=1)"
   ]
  },
  {
   "cell_type": "code",
   "execution_count": 34,
   "metadata": {
    "colab": {
     "base_uri": "https://localhost:8080/"
    },
    "id": "vq2BM7ffK17s",
    "outputId": "9611232a-705b-4b04-ce3e-2b2361a713f3"
   },
   "outputs": [
    {
     "data": {
      "text/plain": [
       "<tf.Tensor: shape=(4, 3, 2), dtype=int32, numpy=\n",
       "array([[[6, 5],\n",
       "        [5, 7],\n",
       "        [2, 4]],\n",
       "\n",
       "       [[3, 6],\n",
       "        [3, 3],\n",
       "        [6, 3]],\n",
       "\n",
       "       [[2, 7],\n",
       "        [2, 6],\n",
       "        [5, 4]],\n",
       "\n",
       "       [[5, 6],\n",
       "        [5, 5],\n",
       "        [7, 7]]])>"
      ]
     },
     "execution_count": 34,
     "metadata": {},
     "output_type": "execute_result"
    }
   ],
   "source": [
    "tf.random.uniform(shape=(4,3,2),minval=2, maxval=8, dtype=tf.int32)\n",
    "\n",
    "# please note above for shape (x,y) x=rows, y=columns\n",
    "# for shape(h,x,y) h=height, x=rows, y=columns"
   ]
  },
  {
   "cell_type": "code",
   "execution_count": 35,
   "metadata": {
    "colab": {
     "base_uri": "https://localhost:8080/"
    },
    "id": "KNvu_HN0K193",
    "outputId": "100564b7-5ee5-47ee-ca03-10c85a10ceb2"
   },
   "outputs": [
    {
     "data": {
      "text/plain": [
       "<tf.Tensor: shape=(3, 2), dtype=float32, numpy=\n",
       "array([[ 9.656605,  9.696197],\n",
       "       [10.528255, 12.335239],\n",
       "       [ 9.201324,  8.04521 ]], dtype=float32)>"
      ]
     },
     "execution_count": 35,
     "metadata": {},
     "output_type": "execute_result"
    }
   ],
   "source": [
    "tf.random.normal(shape = (3,2), mean = 10, stddev=2, dtype=tf.float32, seed=None, name= None)"
   ]
  },
  {
   "cell_type": "code",
   "execution_count": 36,
   "metadata": {
    "colab": {
     "base_uri": "https://localhost:8080/"
    },
    "id": "iRrTssJRrmpE",
    "outputId": "f177733e-7580-4f51-e329-b524e5bc1db7"
   },
   "outputs": [
    {
     "data": {
      "text/plain": [
       "<tf.Tensor: shape=(3, 2), dtype=float32, numpy=\n",
       "array([[10.502698,  7.949621],\n",
       "       [13.772023,  7.757759],\n",
       "       [11.381517, 13.858603]], dtype=float32)>"
      ]
     },
     "execution_count": 36,
     "metadata": {},
     "output_type": "execute_result"
    }
   ],
   "source": [
    "random_num = tf.random.normal(shape=(3,2), mean=10.0, stddev=2.0)\n",
    "random_num"
   ]
  },
  {
   "cell_type": "code",
   "execution_count": 37,
   "metadata": {
    "colab": {
     "base_uri": "https://localhost:8080/"
    },
    "id": "FDoh3-JlrmtR",
    "outputId": "ff23c476-54e3-4b10-c6ce-23864735d7ba"
   },
   "outputs": [
    {
     "data": {
      "text/plain": [
       "<tf.Tensor: shape=(2, 4), dtype=float32, numpy=\n",
       "array([[0.32154942, 0.00272143, 0.5538926 , 0.96359503],\n",
       "       [0.73822415, 0.8691149 , 0.64963007, 0.804288  ]], dtype=float32)>"
      ]
     },
     "execution_count": 37,
     "metadata": {},
     "output_type": "execute_result"
    }
   ],
   "source": [
    "tf.random.uniform(shape = (2,4), minval=0, maxval=None, dtype=tf.float32, seed=None, name= None)"
   ]
  },
  {
   "cell_type": "code",
   "execution_count": 38,
   "metadata": {
    "id": "cE835gEGsVf1"
   },
   "outputs": [],
   "source": [
    "# setting the SEED\n",
    "# when we set seed value then the random data generated will be same for all users.\n",
    "\n",
    "tf.random.set_seed(11)"
   ]
  },
  {
   "cell_type": "code",
   "execution_count": 40,
   "metadata": {
    "colab": {
     "base_uri": "https://localhost:8080/"
    },
    "id": "XFzDlJtosVoO",
    "outputId": "22aec9cd-06a9-464b-aa18-55fa0b3a8827"
   },
   "outputs": [
    {
     "name": "stdout",
     "output_type": "stream",
     "text": [
      "tf.Tensor(\n",
      "[[6 7]\n",
      " [0 2]], shape=(2, 2), dtype=int32)\n",
      "tf.Tensor(\n",
      "[[6 8]\n",
      " [0 4]], shape=(2, 2), dtype=int32)\n"
     ]
    }
   ],
   "source": [
    "random_num1 = tf.random.uniform(shape=(2,2), maxval=10, dtype=tf.int32)\n",
    "random_num2 = tf.random.uniform(shape=(2,2), maxval=10, dtype=tf.int32)\n",
    "print(random_num1)\n",
    "print(random_num2)"
   ]
  },
  {
   "cell_type": "code",
   "execution_count": null,
   "metadata": {
    "id": "FRsOcOMIsVrg"
   },
   "outputs": [],
   "source": []
  },
  {
   "cell_type": "code",
   "execution_count": 41,
   "metadata": {
    "colab": {
     "base_uri": "https://localhost:8080/"
    },
    "id": "Yomvi_iNsVvc",
    "outputId": "3b10dedc-5592-46ef-fa14-21c16e5484f9"
   },
   "outputs": [
    {
     "data": {
      "text/plain": [
       "<tf.Tensor: shape=(10, 1), dtype=int32, numpy=\n",
       "array([[10],\n",
       "       [ 4],\n",
       "       [ 6],\n",
       "       [ 5],\n",
       "       [ 4],\n",
       "       [10],\n",
       "       [ 7],\n",
       "       [ 4],\n",
       "       [ 7],\n",
       "       [ 9]])>"
      ]
     },
     "execution_count": 41,
     "metadata": {},
     "output_type": "execute_result"
    }
   ],
   "source": [
    "# Adding and concatenation in tensorflow\n",
    "\n",
    "dice1 = tf.Variable(tf.random.uniform([10,1], minval=1, maxval=7, dtype=tf.int32))\n",
    "dice2 = tf.Variable(tf.random.uniform([10,1], minval=1, maxval=7, dtype=tf.int32))\n",
    "\n",
    "# adding the values\n",
    "dice_sum = dice1 + dice2\n",
    "dice_sum"
   ]
  },
  {
   "cell_type": "code",
   "execution_count": 42,
   "metadata": {
    "colab": {
     "base_uri": "https://localhost:8080/"
    },
    "id": "zdLNTy1tsVyj",
    "outputId": "87812a51-3967-48db-8f1f-c2dee4182306"
   },
   "outputs": [
    {
     "data": {
      "text/plain": [
       "<tf.Tensor: shape=(10, 3), dtype=int32, numpy=\n",
       "array([[ 5,  5, 10],\n",
       "       [ 2,  2,  4],\n",
       "       [ 4,  2,  6],\n",
       "       [ 1,  4,  5],\n",
       "       [ 3,  1,  4],\n",
       "       [ 5,  5, 10],\n",
       "       [ 6,  1,  7],\n",
       "       [ 1,  3,  4],\n",
       "       [ 2,  5,  7],\n",
       "       [ 3,  6,  9]])>"
      ]
     },
     "execution_count": 42,
     "metadata": {},
     "output_type": "execute_result"
    }
   ],
   "source": [
    "final_dice = tf.concat(values=[dice1, dice2, dice_sum], axis=1)\n",
    "final_dice"
   ]
  },
  {
   "cell_type": "code",
   "execution_count": 43,
   "metadata": {
    "colab": {
     "base_uri": "https://localhost:8080/"
    },
    "id": "6YZuwDHosV18",
    "outputId": "ab12b7a1-a740-4047-cb1b-5b2c41a17c3b"
   },
   "outputs": [
    {
     "data": {
      "text/plain": [
       "<tf.Tensor: shape=(30, 1), dtype=int32, numpy=\n",
       "array([[ 5],\n",
       "       [ 2],\n",
       "       [ 4],\n",
       "       [ 1],\n",
       "       [ 3],\n",
       "       [ 5],\n",
       "       [ 6],\n",
       "       [ 1],\n",
       "       [ 2],\n",
       "       [ 3],\n",
       "       [ 5],\n",
       "       [ 2],\n",
       "       [ 2],\n",
       "       [ 4],\n",
       "       [ 1],\n",
       "       [ 5],\n",
       "       [ 1],\n",
       "       [ 3],\n",
       "       [ 5],\n",
       "       [ 6],\n",
       "       [10],\n",
       "       [ 4],\n",
       "       [ 6],\n",
       "       [ 5],\n",
       "       [ 4],\n",
       "       [10],\n",
       "       [ 7],\n",
       "       [ 4],\n",
       "       [ 7],\n",
       "       [ 9]])>"
      ]
     },
     "execution_count": 43,
     "metadata": {},
     "output_type": "execute_result"
    }
   ],
   "source": [
    "final_dice = tf.concat(values=[dice1, dice2, dice_sum], axis=0)\n",
    "final_dice"
   ]
  },
  {
   "cell_type": "code",
   "execution_count": 44,
   "metadata": {
    "colab": {
     "base_uri": "https://localhost:8080/"
    },
    "id": "oNIJTSS7sV5U",
    "outputId": "3b4240ff-2b6f-4883-c21c-15614cdcdfc4"
   },
   "outputs": [
    {
     "data": {
      "text/plain": [
       "<tf.Tensor: shape=(9,), dtype=int32, numpy=array([ 12,  11,  51,  42,   6,  16,  -8, -19,  31])>"
      ]
     },
     "execution_count": 44,
     "metadata": {},
     "output_type": "execute_result"
    }
   ],
   "source": [
    "\n",
    "# 1-D tensor\n",
    "\n",
    "tensor_1d = tf.constant([12,11,51,42,6,16,-8,-19,31])  # creating 1-D tensor\n",
    "tensor_1d          # printing 1_D tensor"
   ]
  },
  {
   "cell_type": "code",
   "execution_count": 45,
   "metadata": {
    "colab": {
     "base_uri": "https://localhost:8080/"
    },
    "id": "XMAcGCOTsV8_",
    "outputId": "d3549af3-2730-4a78-856c-11e9a06b666c"
   },
   "outputs": [
    {
     "name": "stdout",
     "output_type": "stream",
     "text": [
      "tf.Tensor(2, shape=(), dtype=int64)\n",
      "tf.Tensor(7, shape=(), dtype=int64)\n"
     ]
    }
   ],
   "source": [
    "# argmax and argmin\n",
    "i = tf.argmax(input = tensor_1d)\n",
    "print(i)\n",
    "j = tf.argmin(input= tensor_1d)\n",
    "print(j)"
   ]
  },
  {
   "cell_type": "code",
   "execution_count": 46,
   "metadata": {
    "colab": {
     "base_uri": "https://localhost:8080/"
    },
    "id": "wG1JaeKesWA6",
    "outputId": "aff9589d-b2be-41cf-9cef-5292e89d8e5a"
   },
   "outputs": [
    {
     "name": "stdout",
     "output_type": "stream",
     "text": [
      "index of max value: 2\n",
      "max value in tensor: 51\n"
     ]
    }
   ],
   "source": [
    "print(\"index of max value:\", i.numpy())\n",
    "print(\"max value in tensor:\", tensor_1d[i].numpy())"
   ]
  },
  {
   "cell_type": "code",
   "execution_count": 47,
   "metadata": {
    "colab": {
     "base_uri": "https://localhost:8080/"
    },
    "id": "cMUguDHnsWE6",
    "outputId": "f3ef0ec8-a23a-4d05-b076-5456b0fe8489"
   },
   "outputs": [
    {
     "name": "stdout",
     "output_type": "stream",
     "text": [
      "index of min value: 7\n",
      "min value in tensor: -19\n"
     ]
    }
   ],
   "source": [
    "print(\"index of min value:\", j.numpy())\n",
    "print(\"min value in tensor:\", tensor_1d[j].numpy())"
   ]
  },
  {
   "cell_type": "code",
   "execution_count": null,
   "metadata": {
    "id": "xQiEAGkYsWeZ"
   },
   "outputs": [],
   "source": []
  },
  {
   "cell_type": "code",
   "execution_count": 48,
   "metadata": {
    "id": "w_HhEdfeK2Af"
   },
   "outputs": [],
   "source": [
    "# tf.constant() when used we cant change the data stored.\n",
    "# for using on the weight updation in back prop'n we need to change the value of the variable.\n",
    "# So we use tf.variable() to be able to change the value in the run time."
   ]
  },
  {
   "cell_type": "code",
   "execution_count": 49,
   "metadata": {
    "colab": {
     "base_uri": "https://localhost:8080/"
    },
    "id": "zbll1wOQenDr",
    "outputId": "ab1e6df4-b30e-47c8-9de1-12f4a1db7e31"
   },
   "outputs": [
    {
     "data": {
      "text/plain": [
       "(24,\n",
       " <tf.Variable 'Variable:0' shape=() dtype=int32, numpy=42>,\n",
       " <tf.Variable 'Variable:0' shape=(2, 2, 3) dtype=int32, numpy=\n",
       " array([[[1, 2, 3],\n",
       "         [4, 5, 6]],\n",
       " \n",
       "        [[1, 4, 7],\n",
       "         [2, 5, 8]]])>)"
      ]
     },
     "execution_count": 49,
     "metadata": {},
     "output_type": "execute_result"
    }
   ],
   "source": [
    "var0 = 24                            # noramal python variable\n",
    "var1 = tf.Variable(42)               # rank 0 tensor\n",
    "var2 = tf.Variable([[[1,2,3],[4,5,6]],[[1,4,7],[2,5,8]]])   # rank 3 tensor\n",
    "(var0, var1, var2)"
   ]
  },
  {
   "cell_type": "code",
   "execution_count": null,
   "metadata": {
    "id": "8bxLQmbwfVeg"
   },
   "outputs": [],
   "source": []
  },
  {
   "cell_type": "code",
   "execution_count": 50,
   "metadata": {
    "id": "eG80fMgqfxjJ"
   },
   "outputs": [],
   "source": [
    "# Specifying the datatype"
   ]
  },
  {
   "cell_type": "code",
   "execution_count": 51,
   "metadata": {
    "colab": {
     "base_uri": "https://localhost:8080/"
    },
    "id": "c8uDCrG8f1wc",
    "outputId": "23642c59-6abd-41ca-bb61-0409fbc22887"
   },
   "outputs": [
    {
     "data": {
      "text/plain": [
       "<tf.Variable 'Variable:0' shape=() dtype=float64, numpy=89.0>"
      ]
     },
     "execution_count": 51,
     "metadata": {},
     "output_type": "execute_result"
    }
   ],
   "source": [
    "float_var64 = tf.Variable(89, dtype=tf.float64)\n",
    "float_var64"
   ]
  },
  {
   "cell_type": "code",
   "execution_count": null,
   "metadata": {
    "id": "zYy995A3gBnz"
   },
   "outputs": [],
   "source": []
  },
  {
   "cell_type": "code",
   "execution_count": 52,
   "metadata": {
    "id": "latPL5FGgRr9"
   },
   "outputs": [],
   "source": [
    "# reassigning a tf.variable"
   ]
  },
  {
   "cell_type": "code",
   "execution_count": 53,
   "metadata": {
    "colab": {
     "base_uri": "https://localhost:8080/"
    },
    "id": "SXh9fjWagUsq",
    "outputId": "b46f0727-e78c-4972-85bd-d55884f37ffc"
   },
   "outputs": [
    {
     "data": {
      "text/plain": [
       "<tf.Variable 'Variable:0' shape=() dtype=float32, numpy=53.0>"
      ]
     },
     "execution_count": 53,
     "metadata": {},
     "output_type": "execute_result"
    }
   ],
   "source": [
    "x = tf.Variable(53.0)\n",
    "x"
   ]
  },
  {
   "cell_type": "code",
   "execution_count": 54,
   "metadata": {
    "colab": {
     "base_uri": "https://localhost:8080/"
    },
    "id": "rMUio1JQgZUh",
    "outputId": "cc0e8364-4c3d-48d3-fc08-918fe89b5339"
   },
   "outputs": [
    {
     "data": {
      "text/plain": [
       "<tf.Variable 'Variable:0' shape=() dtype=float32, numpy=59.2>"
      ]
     },
     "execution_count": 54,
     "metadata": {},
     "output_type": "execute_result"
    }
   ],
   "source": [
    "x.assign(59.2)\n",
    "x"
   ]
  },
  {
   "cell_type": "code",
   "execution_count": null,
   "metadata": {
    "id": "d8q9bXpggeIJ"
   },
   "outputs": [],
   "source": []
  },
  {
   "cell_type": "code",
   "execution_count": 55,
   "metadata": {
    "colab": {
     "base_uri": "https://localhost:8080/"
    },
    "id": "PBILjCU-gqmE",
    "outputId": "370d9db9-df96-4667-f500-db759bf0fa3f"
   },
   "outputs": [
    {
     "data": {
      "text/plain": [
       "<tf.Tensor: shape=(2, 3), dtype=float32, numpy=\n",
       "array([[-0.2842556 , -0.4905156 ,  0.7645078 ],\n",
       "       [ 0.41764784, -1.7386407 , -1.069378  ]], dtype=float32)>"
      ]
     },
     "execution_count": 55,
     "metadata": {},
     "output_type": "execute_result"
    }
   ],
   "source": [
    "x = tf.random.normal(shape=(2,3)) # Creating a 2x3 matrix and assigning a random values.\n",
    "x"
   ]
  },
  {
   "cell_type": "code",
   "execution_count": 56,
   "metadata": {
    "colab": {
     "base_uri": "https://localhost:8080/"
    },
    "id": "TgMUsSHxg7M_",
    "outputId": "b38aaf90-58f0-4192-db7f-06e7c9d2b477"
   },
   "outputs": [
    {
     "data": {
      "text/plain": [
       "<tf.Variable 'Variable:0' shape=(2, 3) dtype=float32, numpy=\n",
       "array([[-0.2842556 , -0.4905156 ,  0.7645078 ],\n",
       "       [ 0.41764784, -1.7386407 , -1.069378  ]], dtype=float32)>"
      ]
     },
     "execution_count": 56,
     "metadata": {},
     "output_type": "execute_result"
    }
   ],
   "source": [
    "y = tf.Variable(x)         # Then convering the random value matrix to a variable.\n",
    "y"
   ]
  },
  {
   "cell_type": "code",
   "execution_count": 57,
   "metadata": {
    "colab": {
     "base_uri": "https://localhost:8080/"
    },
    "id": "7MD6zatlhAsu",
    "outputId": "f839af03-48c3-4ebf-d47f-267b9c5d6688"
   },
   "outputs": [
    {
     "data": {
      "text/plain": [
       "<tf.Tensor: shape=(2, 3), dtype=float32, numpy=\n",
       "array([[ 1.6636649 ,  0.84493214,  0.25897932],\n",
       "       [-0.57181484,  0.2893756 , -0.20143197]], dtype=float32)>"
      ]
     },
     "execution_count": 57,
     "metadata": {},
     "output_type": "execute_result"
    }
   ],
   "source": [
    "z = tf.random.normal(shape=(2,3))       # creating a new matrix of the same shape.\n",
    "z"
   ]
  },
  {
   "cell_type": "code",
   "execution_count": 58,
   "metadata": {
    "colab": {
     "base_uri": "https://localhost:8080/"
    },
    "id": "afwoibfehwqi",
    "outputId": "404a5296-697c-4505-cb85-3fbfb16f1457"
   },
   "outputs": [
    {
     "data": {
      "text/plain": [
       "<tf.Variable 'UnreadVariable' shape=(2, 3) dtype=float32, numpy=\n",
       "array([[ 1.6636649 ,  0.84493214,  0.25897932],\n",
       "       [-0.57181484,  0.2893756 , -0.20143197]], dtype=float32)>"
      ]
     },
     "execution_count": 58,
     "metadata": {},
     "output_type": "execute_result"
    }
   ],
   "source": [
    "y.assign(z)                  # replacing the value of the z matrix in the y matrix"
   ]
  },
  {
   "cell_type": "code",
   "execution_count": 60,
   "metadata": {
    "id": "7rBHsysDh4y0"
   },
   "outputs": [],
   "source": [
    "for i in range(2):\n",
    "    for j in range(2):\n",
    "        assert y[i,j] == z[i,j] "
   ]
  },
  {
   "cell_type": "code",
   "execution_count": 61,
   "metadata": {
    "colab": {
     "base_uri": "https://localhost:8080/"
    },
    "id": "cJimExPJjTJz",
    "outputId": "11137480-adf8-455f-c83c-798b2de26f75"
   },
   "outputs": [
    {
     "data": {
      "text/plain": [
       "<tf.Variable 'Variable:0' shape=(2, 3) dtype=float32, numpy=\n",
       "array([[ 1.6636649 ,  0.84493214,  0.25897932],\n",
       "       [-0.57181484,  0.2893756 , -0.20143197]], dtype=float32)>"
      ]
     },
     "execution_count": 61,
     "metadata": {},
     "output_type": "execute_result"
    }
   ],
   "source": [
    "y"
   ]
  },
  {
   "cell_type": "code",
   "execution_count": 62,
   "metadata": {
    "colab": {
     "base_uri": "https://localhost:8080/"
    },
    "id": "FlZxXFSmjgWi",
    "outputId": "7e535ede-4025-4a0f-90ad-f270032f44d1"
   },
   "outputs": [
    {
     "data": {
      "text/plain": [
       "<tf.Variable 'Variable:0' shape=(2, 3) dtype=float32, numpy=\n",
       "array([[2.6636648 , 1.8449321 , 1.2589793 ],\n",
       "       [0.42818516, 1.2893755 , 0.798568  ]], dtype=float32)>"
      ]
     },
     "execution_count": 62,
     "metadata": {},
     "output_type": "execute_result"
    }
   ],
   "source": [
    "y.assign_add(tf.ones([2,3]))  # adding one to y \n",
    "y"
   ]
  },
  {
   "cell_type": "code",
   "execution_count": 63,
   "metadata": {
    "colab": {
     "base_uri": "https://localhost:8080/",
     "height": 197
    },
    "id": "iGE4F2_4j8NQ",
    "outputId": "ccda04c6-8def-4b59-a264-e5925620167c"
   },
   "outputs": [
    {
     "ename": "AssertionError",
     "evalue": "",
     "output_type": "error",
     "traceback": [
      "\u001b[1;31m---------------------------------------------------------------------------\u001b[0m",
      "\u001b[1;31mAssertionError\u001b[0m                            Traceback (most recent call last)",
      "\u001b[1;32m<ipython-input-63-0d46c4150b76>\u001b[0m in \u001b[0;36m<module>\u001b[1;34m\u001b[0m\n\u001b[0;32m      3\u001b[0m \u001b[1;32mfor\u001b[0m \u001b[0mi\u001b[0m \u001b[1;32min\u001b[0m \u001b[0mrange\u001b[0m\u001b[1;33m(\u001b[0m\u001b[1;36m2\u001b[0m\u001b[1;33m)\u001b[0m\u001b[1;33m:\u001b[0m\u001b[1;33m\u001b[0m\u001b[1;33m\u001b[0m\u001b[0m\n\u001b[0;32m      4\u001b[0m     \u001b[1;32mfor\u001b[0m \u001b[0mj\u001b[0m \u001b[1;32min\u001b[0m \u001b[0mrange\u001b[0m\u001b[1;33m(\u001b[0m\u001b[1;36m2\u001b[0m\u001b[1;33m)\u001b[0m\u001b[1;33m:\u001b[0m\u001b[1;33m\u001b[0m\u001b[1;33m\u001b[0m\u001b[0m\n\u001b[1;32m----> 5\u001b[1;33m         \u001b[1;32massert\u001b[0m \u001b[0my\u001b[0m\u001b[1;33m[\u001b[0m\u001b[0mi\u001b[0m\u001b[1;33m,\u001b[0m\u001b[0mj\u001b[0m\u001b[1;33m]\u001b[0m \u001b[1;33m==\u001b[0m \u001b[0mz\u001b[0m\u001b[1;33m[\u001b[0m\u001b[0mi\u001b[0m\u001b[1;33m,\u001b[0m\u001b[0mj\u001b[0m\u001b[1;33m]\u001b[0m\u001b[1;33m\u001b[0m\u001b[1;33m\u001b[0m\u001b[0m\n\u001b[0m",
      "\u001b[1;31mAssertionError\u001b[0m: "
     ]
    }
   ],
   "source": [
    "# just for checking and confirming.\n",
    "\n",
    "for i in range(2):\n",
    "    for j in range(2):\n",
    "        assert y[i,j] == z[i,j]"
   ]
  },
  {
   "cell_type": "code",
   "execution_count": 64,
   "metadata": {
    "id": "NtfTC9BCkIC_"
   },
   "outputs": [],
   "source": [
    "for i in range(2):\n",
    "    for j in range(2):\n",
    "        assert y[i,j] == z[i,j] + 1"
   ]
  },
  {
   "cell_type": "code",
   "execution_count": null,
   "metadata": {
    "id": "p2x4geQOkKFf"
   },
   "outputs": [],
   "source": []
  },
  {
   "cell_type": "code",
   "execution_count": 65,
   "metadata": {
    "colab": {
     "base_uri": "https://localhost:8080/"
    },
    "id": "yqZiLTpXkVbl",
    "outputId": "3cbd0435-7e43-43b4-c7e0-76da5aa96d40"
   },
   "outputs": [
    {
     "name": "stdout",
     "output_type": "stream",
     "text": [
      "<tf.Variable 'Variable:0' shape=(2, 2, 8) dtype=int64, numpy=\n",
      "array([[[0, 8, 5, 1, 2, 8, 4, 8],\n",
      "        [1, 7, 9, 9, 3, 1, 7, 3]],\n",
      "\n",
      "       [[2, 2, 3, 1, 6, 8, 0, 4],\n",
      "        [5, 8, 0, 8, 0, 4, 5, 4]]], dtype=int64)>\n",
      "(2, 2, 8)\n"
     ]
    }
   ],
   "source": [
    "# shaping of the tensor\n",
    "\n",
    "tensorr = tf.Variable(tf.random.uniform(shape=(2,2,8), minval=0, maxval=10, dtype=tf.int64))\n",
    "print(tensorr)\n",
    "print(tensorr.shape)"
   ]
  },
  {
   "cell_type": "code",
   "execution_count": null,
   "metadata": {
    "id": "BAIox9vulrwg"
   },
   "outputs": [],
   "source": []
  },
  {
   "cell_type": "code",
   "execution_count": 66,
   "metadata": {
    "colab": {
     "base_uri": "https://localhost:8080/"
    },
    "id": "e_wgnSQNkVjH",
    "outputId": "eff41127-42cc-4de2-e9c2-5f6279758635"
   },
   "outputs": [
    {
     "name": "stdout",
     "output_type": "stream",
     "text": [
      "tf.Tensor(\n",
      "[[[0 8 5 1]\n",
      "  [2 8 4 8]\n",
      "  [1 7 9 9]\n",
      "  [3 1 7 3]]\n",
      "\n",
      " [[2 2 3 1]\n",
      "  [6 8 0 4]\n",
      "  [5 8 0 8]\n",
      "  [0 4 5 4]]], shape=(2, 4, 4), dtype=int64)\n",
      "tf.Tensor(\n",
      "[[[0 8 5 1 2 8 4 8]]\n",
      "\n",
      " [[1 7 9 9 3 1 7 3]]\n",
      "\n",
      " [[2 2 3 1 6 8 0 4]]\n",
      "\n",
      " [[5 8 0 8 0 4 5 4]]], shape=(4, 1, 8), dtype=int64)\n"
     ]
    }
   ],
   "source": [
    "# Reshaping the tensor.\n",
    "# NOTE we can also reshape the number of clolumns, rows as well as HEIGHT \n",
    "\n",
    "ten1 = tf.reshape(tensorr, [2,4,4])\n",
    "ten2 = tf.reshape(tensorr, [4,1,8])\n",
    "print(ten1)\n",
    "print(ten2)"
   ]
  },
  {
   "cell_type": "code",
   "execution_count": null,
   "metadata": {
    "id": "wFeA6coIlqsm"
   },
   "outputs": [],
   "source": []
  },
  {
   "cell_type": "code",
   "execution_count": 67,
   "metadata": {
    "colab": {
     "base_uri": "https://localhost:8080/"
    },
    "id": "9bIUcjZAlc5j",
    "outputId": "b2695854-0290-46a2-fc16-6a50d2e0530c"
   },
   "outputs": [
    {
     "data": {
      "text/plain": [
       "<tf.Variable 'Variable:0' shape=(2, 2, 8) dtype=int64, numpy=\n",
       "array([[[0, 8, 5, 1, 2, 8, 4, 8],\n",
       "        [1, 7, 9, 9, 3, 1, 7, 3]],\n",
       "\n",
       "       [[2, 2, 3, 1, 6, 8, 0, 4],\n",
       "        [5, 8, 0, 8, 0, 4, 5, 4]]], dtype=int64)>"
      ]
     },
     "execution_count": 67,
     "metadata": {},
     "output_type": "execute_result"
    }
   ],
   "source": [
    "# Rank of the matrix(remember it as a degree of the matrix given)\n",
    "\n",
    "# the number of indices required to uniquely select each element of the tensor.\n",
    "\n",
    "tensorr"
   ]
  },
  {
   "cell_type": "code",
   "execution_count": 68,
   "metadata": {
    "colab": {
     "base_uri": "https://localhost:8080/"
    },
    "id": "M-jJAM4l-qSp",
    "outputId": "a66c6f7b-15f3-4850-d790-6d66ea17a183"
   },
   "outputs": [
    {
     "data": {
      "text/plain": [
       "<tf.Tensor: shape=(), dtype=int32, numpy=3>"
      ]
     },
     "execution_count": 68,
     "metadata": {},
     "output_type": "execute_result"
    }
   ],
   "source": [
    "tf.rank(tensorr)"
   ]
  },
  {
   "cell_type": "code",
   "execution_count": 69,
   "metadata": {
    "colab": {
     "base_uri": "https://localhost:8080/"
    },
    "id": "eMNHQrQR-wbP",
    "outputId": "7714b58b-9610-4bdf-efdd-47df7027d006"
   },
   "outputs": [
    {
     "data": {
      "text/plain": [
       "8"
      ]
     },
     "execution_count": 69,
     "metadata": {},
     "output_type": "execute_result"
    }
   ],
   "source": [
    "tensorr[1][1][3].numpy()\n",
    "\n",
    "# we used 3 indices to uniquely define a number. so the rank is 3."
   ]
  },
  {
   "cell_type": "code",
   "execution_count": 70,
   "metadata": {
    "colab": {
     "base_uri": "https://localhost:8080/"
    },
    "id": "E3ueg3qy-_VO",
    "outputId": "b1e0bd26-b963-410c-9df3-f6cca934ee2b"
   },
   "outputs": [
    {
     "data": {
      "text/plain": [
       "8"
      ]
     },
     "execution_count": 70,
     "metadata": {},
     "output_type": "execute_result"
    }
   ],
   "source": [
    "# we can also get the element similar to above process by this code as well\n",
    "\n",
    "tensorr[1,1,3].numpy()   # tensor to numpy"
   ]
  },
  {
   "cell_type": "code",
   "execution_count": null,
   "metadata": {
    "id": "drShtTgF_9PS"
   },
   "outputs": [],
   "source": []
  },
  {
   "cell_type": "code",
   "execution_count": 71,
   "metadata": {
    "id": "lHBfrArZAfve"
   },
   "outputs": [],
   "source": [
    "#Finding the size and length of the matrix"
   ]
  },
  {
   "cell_type": "code",
   "execution_count": 72,
   "metadata": {
    "colab": {
     "base_uri": "https://localhost:8080/"
    },
    "id": "Xymw4tcXAlFu",
    "outputId": "ee822e05-e268-4c96-ccd2-82e0cb511529"
   },
   "outputs": [
    {
     "name": "stdout",
     "output_type": "stream",
     "text": [
      "tf.Tensor(32, shape=(), dtype=int32)\n"
     ]
    },
    {
     "data": {
      "text/plain": [
       "32"
      ]
     },
     "execution_count": 72,
     "metadata": {},
     "output_type": "execute_result"
    }
   ],
   "source": [
    "tf_size = tf.size(tensorr)\n",
    "print(tf_size)\n",
    "tf_size.numpy()"
   ]
  },
  {
   "cell_type": "code",
   "execution_count": null,
   "metadata": {
    "id": "0Za18TlwA2km"
   },
   "outputs": [],
   "source": []
  },
  {
   "cell_type": "code",
   "execution_count": 74,
   "metadata": {
    "colab": {
     "base_uri": "https://localhost:8080/"
    },
    "id": "XCklFx63BRfN",
    "outputId": "e32072f3-7c8f-43de-daec-9f8a657ac7fb"
   },
   "outputs": [
    {
     "name": "stdout",
     "output_type": "stream",
     "text": [
      "tf.Tensor(\n",
      "[[3. 4.]\n",
      " [1. 4.]], shape=(2, 2), dtype=float32)\n",
      "tf.Tensor(\n",
      "[[4. 5.]\n",
      " [4. 4.]], shape=(2, 2), dtype=float32)\n",
      "tf.Tensor(\n",
      "[[7. 9.]\n",
      " [5. 8.]], shape=(2, 2), dtype=float32)\n",
      "tf.Tensor(\n",
      "[[7. 9.]\n",
      " [5. 8.]], shape=(2, 2), dtype=float32)\n",
      "tf.Tensor(\n",
      "[[49. 81.]\n",
      " [25. 64.]], shape=(2, 2), dtype=float32)\n",
      "tf.Tensor(\n",
      "[[1096.6332  8103.084  ]\n",
      " [ 148.41316 2980.958  ]], shape=(2, 2), dtype=float32)\n"
     ]
    }
   ],
   "source": [
    "#Some math operations\n",
    "\n",
    "a = tf.round(tf.random.uniform(shape=(2,2), minval=1, maxval=5, dtype=tf.float32))\n",
    "\n",
    "b = tf.round(tf.random.uniform(shape=(2,2), minval=2, maxval=6, dtype=tf.float32))\n",
    "\n",
    "c = tf.round(a + b)\n",
    "\n",
    "d = tf.add(a,b)\n",
    "\n",
    "e = tf.square(c)\n",
    "\n",
    "f = tf.exp(c)\n",
    "\n",
    "print(a)\n",
    "print(b)\n",
    "print(c)\n",
    "print(d)\n",
    "print(e)\n",
    "print(f)"
   ]
  },
  {
   "cell_type": "code",
   "execution_count": 75,
   "metadata": {
    "colab": {
     "base_uri": "https://localhost:8080/"
    },
    "id": "2pwAQsWtBRiJ",
    "outputId": "08b75918-13e5-48c5-e86f-620f6117e410"
   },
   "outputs": [
    {
     "data": {
      "text/plain": [
       "<tf.Variable 'Variable:0' shape=(2, 2, 8) dtype=int64, numpy=\n",
       "array([[[0, 8, 5, 1, 2, 8, 4, 8],\n",
       "        [1, 7, 9, 9, 3, 1, 7, 3]],\n",
       "\n",
       "       [[2, 2, 3, 1, 6, 8, 0, 4],\n",
       "        [5, 8, 0, 8, 0, 4, 5, 4]]], dtype=int64)>"
      ]
     },
     "execution_count": 75,
     "metadata": {},
     "output_type": "execute_result"
    }
   ],
   "source": [
    "tensorr"
   ]
  },
  {
   "cell_type": "code",
   "execution_count": 76,
   "metadata": {
    "colab": {
     "base_uri": "https://localhost:8080/"
    },
    "id": "TjBfyLi-C5BF",
    "outputId": "0d7b0f22-a2ce-4ab9-96f0-cfc3f0a8b61d"
   },
   "outputs": [
    {
     "data": {
      "text/plain": [
       "<tf.Tensor: shape=(2, 2, 8), dtype=int64, numpy=\n",
       "array([[[ 0, 64, 25,  1,  4, 64, 16, 64],\n",
       "        [ 1, 49, 81, 81,  9,  1, 49,  9]],\n",
       "\n",
       "       [[ 4,  4,  9,  1, 36, 64,  0, 16],\n",
       "        [25, 64,  0, 64,  0, 16, 25, 16]]], dtype=int64)>"
      ]
     },
     "execution_count": 76,
     "metadata": {},
     "output_type": "execute_result"
    }
   ],
   "source": [
    "tensorr*tensorr"
   ]
  },
  {
   "cell_type": "code",
   "execution_count": 77,
   "metadata": {
    "colab": {
     "base_uri": "https://localhost:8080/"
    },
    "id": "C73AdfWNC7Nk",
    "outputId": "8c2e0c47-5d2d-4c04-ea9f-379c1396d4f2"
   },
   "outputs": [
    {
     "data": {
      "text/plain": [
       "<tf.Tensor: shape=(2, 2), dtype=float32, numpy=\n",
       "array([[7., 9.],\n",
       "       [5., 8.]], dtype=float32)>"
      ]
     },
     "execution_count": 77,
     "metadata": {},
     "output_type": "execute_result"
    }
   ],
   "source": [
    "c"
   ]
  },
  {
   "cell_type": "code",
   "execution_count": 78,
   "metadata": {
    "colab": {
     "base_uri": "https://localhost:8080/"
    },
    "id": "V7HxM7bPDE77",
    "outputId": "bbcc2a5d-c466-4b6f-ae93-82e40e1a53aa"
   },
   "outputs": [
    {
     "data": {
      "text/plain": [
       "<tf.Tensor: shape=(2, 2), dtype=float32, numpy=\n",
       "array([[49., 81.],\n",
       "       [25., 64.]], dtype=float32)>"
      ]
     },
     "execution_count": 78,
     "metadata": {},
     "output_type": "execute_result"
    }
   ],
   "source": [
    "c*c"
   ]
  },
  {
   "cell_type": "code",
   "execution_count": null,
   "metadata": {
    "id": "r3QXu7H1DGpa"
   },
   "outputs": [],
   "source": []
  },
  {
   "cell_type": "code",
   "execution_count": 79,
   "metadata": {
    "colab": {
     "base_uri": "https://localhost:8080/"
    },
    "id": "QmV5cgKdDRA5",
    "outputId": "0c5a78d8-74af-436e-b262-2450281a3852"
   },
   "outputs": [
    {
     "data": {
      "text/plain": [
       "<tf.Tensor: shape=(2, 2), dtype=float32, numpy=\n",
       "array([[35., 45.],\n",
       "       [25., 40.]], dtype=float32)>"
      ]
     },
     "execution_count": 79,
     "metadata": {},
     "output_type": "execute_result"
    }
   ],
   "source": [
    "# Broadcasting operation (element wise operation)\n",
    "tensor = c * 5\n",
    "tensor"
   ]
  },
  {
   "cell_type": "code",
   "execution_count": null,
   "metadata": {
    "id": "-6agmyoLDRPm"
   },
   "outputs": [],
   "source": []
  },
  {
   "cell_type": "code",
   "execution_count": 80,
   "metadata": {
    "id": "cgPM0L1CDvds"
   },
   "outputs": [],
   "source": [
    "# Matrix multiplication"
   ]
  },
  {
   "cell_type": "code",
   "execution_count": 81,
   "metadata": {
    "colab": {
     "base_uri": "https://localhost:8080/"
    },
    "id": "UZHsK7UdDvgX",
    "outputId": "96de816e-1304-4e80-d368-bda13fdec2a9"
   },
   "outputs": [
    {
     "data": {
      "text/plain": [
       "<tf.Tensor: shape=(2, 2), dtype=int32, numpy=\n",
       "array([[ 3,  4],\n",
       "       [ 7, 10]])>"
      ]
     },
     "execution_count": 81,
     "metadata": {},
     "output_type": "execute_result"
    }
   ],
   "source": [
    "# matrix mult'n of the square matrices\n",
    "\n",
    "mat_a = tf.constant([[1,2],[3,4]])\n",
    "mat_b = tf.constant([[1,2],[1,1]])\n",
    "tf.matmul(mat_a, mat_b)"
   ]
  },
  {
   "cell_type": "code",
   "execution_count": 82,
   "metadata": {
    "colab": {
     "base_uri": "https://localhost:8080/",
     "height": 816
    },
    "id": "3tbxuM89Enct",
    "outputId": "3725ea98-49f4-4037-89f5-cf3e937f1603"
   },
   "outputs": [
    {
     "ename": "InvalidArgumentError",
     "evalue": "Matrix size-incompatible: In[0]: [1,3], In[1]: [1,3] [Op:MatMul]",
     "output_type": "error",
     "traceback": [
      "\u001b[1;31m---------------------------------------------------------------------------\u001b[0m",
      "\u001b[1;31mInvalidArgumentError\u001b[0m                      Traceback (most recent call last)",
      "\u001b[1;32m<ipython-input-82-5f7e4913d3ee>\u001b[0m in \u001b[0;36m<module>\u001b[1;34m\u001b[0m\n\u001b[0;32m      3\u001b[0m \u001b[0mmat_a\u001b[0m \u001b[1;33m=\u001b[0m \u001b[0mtf\u001b[0m\u001b[1;33m.\u001b[0m\u001b[0mconstant\u001b[0m\u001b[1;33m(\u001b[0m\u001b[1;33m[\u001b[0m\u001b[1;33m[\u001b[0m\u001b[1;36m6\u001b[0m\u001b[1;33m,\u001b[0m\u001b[1;36m7\u001b[0m\u001b[1;33m,\u001b[0m\u001b[1;36m6\u001b[0m\u001b[1;33m]\u001b[0m\u001b[1;33m]\u001b[0m\u001b[1;33m)\u001b[0m\u001b[1;33m\u001b[0m\u001b[1;33m\u001b[0m\u001b[0m\n\u001b[0;32m      4\u001b[0m \u001b[0mmat_b\u001b[0m \u001b[1;33m=\u001b[0m \u001b[0mtf\u001b[0m\u001b[1;33m.\u001b[0m\u001b[0mconstant\u001b[0m\u001b[1;33m(\u001b[0m\u001b[1;33m[\u001b[0m\u001b[1;33m[\u001b[0m\u001b[1;36m3\u001b[0m\u001b[1;33m,\u001b[0m\u001b[1;36m4\u001b[0m\u001b[1;33m,\u001b[0m\u001b[1;36m3\u001b[0m\u001b[1;33m]\u001b[0m\u001b[1;33m]\u001b[0m\u001b[1;33m)\u001b[0m\u001b[1;33m\u001b[0m\u001b[1;33m\u001b[0m\u001b[0m\n\u001b[1;32m----> 5\u001b[1;33m \u001b[0mtf\u001b[0m\u001b[1;33m.\u001b[0m\u001b[0mmatmul\u001b[0m\u001b[1;33m(\u001b[0m\u001b[0mmat_a\u001b[0m\u001b[1;33m,\u001b[0m \u001b[0mmat_b\u001b[0m\u001b[1;33m)\u001b[0m\u001b[1;33m\u001b[0m\u001b[1;33m\u001b[0m\u001b[0m\n\u001b[0m\u001b[0;32m      6\u001b[0m \u001b[1;33m\u001b[0m\u001b[0m\n\u001b[0;32m      7\u001b[0m \u001b[1;31m# the following opr'n gives erroe as we cant multiply mat of order 1x3 with 1x3.\u001b[0m\u001b[1;33m\u001b[0m\u001b[1;33m\u001b[0m\u001b[1;33m\u001b[0m\u001b[0m\n",
      "\u001b[1;32mc:\\users\\user\\anaconda3\\envs\\tensorflow02.xxxx\\lib\\site-packages\\tensorflow\\python\\util\\dispatch.py\u001b[0m in \u001b[0;36mwrapper\u001b[1;34m(*args, **kwargs)\u001b[0m\n\u001b[0;32m    178\u001b[0m     \u001b[1;34m\"\"\"Call target, and fall back on dispatchers if there is a TypeError.\"\"\"\u001b[0m\u001b[1;33m\u001b[0m\u001b[1;33m\u001b[0m\u001b[0m\n\u001b[0;32m    179\u001b[0m     \u001b[1;32mtry\u001b[0m\u001b[1;33m:\u001b[0m\u001b[1;33m\u001b[0m\u001b[1;33m\u001b[0m\u001b[0m\n\u001b[1;32m--> 180\u001b[1;33m       \u001b[1;32mreturn\u001b[0m \u001b[0mtarget\u001b[0m\u001b[1;33m(\u001b[0m\u001b[1;33m*\u001b[0m\u001b[0margs\u001b[0m\u001b[1;33m,\u001b[0m \u001b[1;33m**\u001b[0m\u001b[0mkwargs\u001b[0m\u001b[1;33m)\u001b[0m\u001b[1;33m\u001b[0m\u001b[1;33m\u001b[0m\u001b[0m\n\u001b[0m\u001b[0;32m    181\u001b[0m     \u001b[1;32mexcept\u001b[0m \u001b[1;33m(\u001b[0m\u001b[0mTypeError\u001b[0m\u001b[1;33m,\u001b[0m \u001b[0mValueError\u001b[0m\u001b[1;33m)\u001b[0m\u001b[1;33m:\u001b[0m\u001b[1;33m\u001b[0m\u001b[1;33m\u001b[0m\u001b[0m\n\u001b[0;32m    182\u001b[0m       \u001b[1;31m# Note: convert_to_eager_tensor currently raises a ValueError, not a\u001b[0m\u001b[1;33m\u001b[0m\u001b[1;33m\u001b[0m\u001b[1;33m\u001b[0m\u001b[0m\n",
      "\u001b[1;32mc:\\users\\user\\anaconda3\\envs\\tensorflow02.xxxx\\lib\\site-packages\\tensorflow\\python\\ops\\math_ops.py\u001b[0m in \u001b[0;36mmatmul\u001b[1;34m(a, b, transpose_a, transpose_b, adjoint_a, adjoint_b, a_is_sparse, b_is_sparse, name)\u001b[0m\n\u001b[0;32m   2982\u001b[0m     \u001b[1;32melse\u001b[0m\u001b[1;33m:\u001b[0m\u001b[1;33m\u001b[0m\u001b[1;33m\u001b[0m\u001b[0m\n\u001b[0;32m   2983\u001b[0m       return gen_math_ops.mat_mul(\n\u001b[1;32m-> 2984\u001b[1;33m           a, b, transpose_a=transpose_a, transpose_b=transpose_b, name=name)\n\u001b[0m\u001b[0;32m   2985\u001b[0m \u001b[1;33m\u001b[0m\u001b[0m\n\u001b[0;32m   2986\u001b[0m \u001b[1;33m\u001b[0m\u001b[0m\n",
      "\u001b[1;32mc:\\users\\user\\anaconda3\\envs\\tensorflow02.xxxx\\lib\\site-packages\\tensorflow\\python\\ops\\gen_math_ops.py\u001b[0m in \u001b[0;36mmat_mul\u001b[1;34m(a, b, transpose_a, transpose_b, name)\u001b[0m\n\u001b[0;32m   5575\u001b[0m         \u001b[1;32mpass\u001b[0m  \u001b[1;31m# Add nodes to the TensorFlow graph.\u001b[0m\u001b[1;33m\u001b[0m\u001b[1;33m\u001b[0m\u001b[0m\n\u001b[0;32m   5576\u001b[0m     \u001b[1;32mexcept\u001b[0m \u001b[0m_core\u001b[0m\u001b[1;33m.\u001b[0m\u001b[0m_NotOkStatusException\u001b[0m \u001b[1;32mas\u001b[0m \u001b[0me\u001b[0m\u001b[1;33m:\u001b[0m\u001b[1;33m\u001b[0m\u001b[1;33m\u001b[0m\u001b[0m\n\u001b[1;32m-> 5577\u001b[1;33m       \u001b[0m_ops\u001b[0m\u001b[1;33m.\u001b[0m\u001b[0mraise_from_not_ok_status\u001b[0m\u001b[1;33m(\u001b[0m\u001b[0me\u001b[0m\u001b[1;33m,\u001b[0m \u001b[0mname\u001b[0m\u001b[1;33m)\u001b[0m\u001b[1;33m\u001b[0m\u001b[1;33m\u001b[0m\u001b[0m\n\u001b[0m\u001b[0;32m   5578\u001b[0m   \u001b[1;31m# Add nodes to the TensorFlow graph.\u001b[0m\u001b[1;33m\u001b[0m\u001b[1;33m\u001b[0m\u001b[1;33m\u001b[0m\u001b[0m\n\u001b[0;32m   5579\u001b[0m   \u001b[1;32mif\u001b[0m \u001b[0mtranspose_a\u001b[0m \u001b[1;32mis\u001b[0m \u001b[1;32mNone\u001b[0m\u001b[1;33m:\u001b[0m\u001b[1;33m\u001b[0m\u001b[1;33m\u001b[0m\u001b[0m\n",
      "\u001b[1;32mc:\\users\\user\\anaconda3\\envs\\tensorflow02.xxxx\\lib\\site-packages\\tensorflow\\python\\framework\\ops.py\u001b[0m in \u001b[0;36mraise_from_not_ok_status\u001b[1;34m(e, name)\u001b[0m\n\u001b[0;32m   6651\u001b[0m   \u001b[0mmessage\u001b[0m \u001b[1;33m=\u001b[0m \u001b[0me\u001b[0m\u001b[1;33m.\u001b[0m\u001b[0mmessage\u001b[0m \u001b[1;33m+\u001b[0m \u001b[1;33m(\u001b[0m\u001b[1;34m\" name: \"\u001b[0m \u001b[1;33m+\u001b[0m \u001b[0mname\u001b[0m \u001b[1;32mif\u001b[0m \u001b[0mname\u001b[0m \u001b[1;32mis\u001b[0m \u001b[1;32mnot\u001b[0m \u001b[1;32mNone\u001b[0m \u001b[1;32melse\u001b[0m \u001b[1;34m\"\"\u001b[0m\u001b[1;33m)\u001b[0m\u001b[1;33m\u001b[0m\u001b[1;33m\u001b[0m\u001b[0m\n\u001b[0;32m   6652\u001b[0m   \u001b[1;31m# pylint: disable=protected-access\u001b[0m\u001b[1;33m\u001b[0m\u001b[1;33m\u001b[0m\u001b[1;33m\u001b[0m\u001b[0m\n\u001b[1;32m-> 6653\u001b[1;33m   \u001b[0msix\u001b[0m\u001b[1;33m.\u001b[0m\u001b[0mraise_from\u001b[0m\u001b[1;33m(\u001b[0m\u001b[0mcore\u001b[0m\u001b[1;33m.\u001b[0m\u001b[0m_status_to_exception\u001b[0m\u001b[1;33m(\u001b[0m\u001b[0me\u001b[0m\u001b[1;33m.\u001b[0m\u001b[0mcode\u001b[0m\u001b[1;33m,\u001b[0m \u001b[0mmessage\u001b[0m\u001b[1;33m)\u001b[0m\u001b[1;33m,\u001b[0m \u001b[1;32mNone\u001b[0m\u001b[1;33m)\u001b[0m\u001b[1;33m\u001b[0m\u001b[1;33m\u001b[0m\u001b[0m\n\u001b[0m\u001b[0;32m   6654\u001b[0m   \u001b[1;31m# pylint: enable=protected-access\u001b[0m\u001b[1;33m\u001b[0m\u001b[1;33m\u001b[0m\u001b[1;33m\u001b[0m\u001b[0m\n\u001b[0;32m   6655\u001b[0m \u001b[1;33m\u001b[0m\u001b[0m\n",
      "\u001b[1;32m~\\AppData\\Roaming\\Python\\Python36\\site-packages\\six.py\u001b[0m in \u001b[0;36mraise_from\u001b[1;34m(value, from_value)\u001b[0m\n",
      "\u001b[1;31mInvalidArgumentError\u001b[0m: Matrix size-incompatible: In[0]: [1,3], In[1]: [1,3] [Op:MatMul]"
     ]
    }
   ],
   "source": [
    "# matrix mult'n of the unordered matrices.\n",
    "\n",
    "mat_a = tf.constant([[6,7,6]])\n",
    "mat_b = tf.constant([[3,4,3]])\n",
    "tf.matmul(mat_a, mat_b)\n",
    "\n",
    "# the following opr'n gives erroe as we cant multiply mat of order 1x3 with 1x3.\n",
    "# So we change to 1x3 and 3x1,  and we get a 1x1 output.\n",
    "# Its called transpose of the matrix. see below cell."
   ]
  },
  {
   "cell_type": "code",
   "execution_count": 83,
   "metadata": {
    "colab": {
     "base_uri": "https://localhost:8080/"
    },
    "id": "-aLy_DI2FBiq",
    "outputId": "c9c44042-839e-48ac-8775-3939edbac208"
   },
   "outputs": [
    {
     "data": {
      "text/plain": [
       "<tf.Tensor: shape=(1, 1), dtype=int32, numpy=array([[64]])>"
      ]
     },
     "execution_count": 83,
     "metadata": {},
     "output_type": "execute_result"
    }
   ],
   "source": [
    "tf.matmul(mat_a, tf.transpose(mat_b))"
   ]
  },
  {
   "cell_type": "code",
   "execution_count": null,
   "metadata": {
    "id": "p8viXic_FjXS"
   },
   "outputs": [],
   "source": []
  },
  {
   "cell_type": "code",
   "execution_count": 84,
   "metadata": {
    "colab": {
     "base_uri": "https://localhost:8080/"
    },
    "id": "AF346dmoISOs",
    "outputId": "4755c346-3eb6-48b4-a709-b23e9325472c"
   },
   "outputs": [
    {
     "data": {
      "text/plain": [
       "<tf.Variable 'Variable:0' shape=(2, 2, 8) dtype=int64, numpy=\n",
       "array([[[0, 8, 5, 1, 2, 8, 4, 8],\n",
       "        [1, 7, 9, 9, 3, 1, 7, 3]],\n",
       "\n",
       "       [[2, 2, 3, 1, 6, 8, 0, 4],\n",
       "        [5, 8, 0, 8, 0, 4, 5, 4]]], dtype=int64)>"
      ]
     },
     "execution_count": 84,
     "metadata": {},
     "output_type": "execute_result"
    }
   ],
   "source": [
    "# Type casting of tensor\n",
    "\n",
    "tensorr"
   ]
  },
  {
   "cell_type": "code",
   "execution_count": 85,
   "metadata": {
    "colab": {
     "base_uri": "https://localhost:8080/"
    },
    "id": "V9bciTq3ISSN",
    "outputId": "749851a1-5bcc-4355-a4bb-34a903f8a61a"
   },
   "outputs": [
    {
     "data": {
      "text/plain": [
       "<tf.Tensor: shape=(2, 2, 8), dtype=float64, numpy=\n",
       "array([[[0., 8., 5., 1., 2., 8., 4., 8.],\n",
       "        [1., 7., 9., 9., 3., 1., 7., 3.]],\n",
       "\n",
       "       [[2., 2., 3., 1., 6., 8., 0., 4.],\n",
       "        [5., 8., 0., 8., 0., 4., 5., 4.]]])>"
      ]
     },
     "execution_count": 85,
     "metadata": {},
     "output_type": "execute_result"
    }
   ],
   "source": [
    "i = tf.cast(tensorr, dtype=tf.float64,)\n",
    "i"
   ]
  },
  {
   "cell_type": "code",
   "execution_count": 86,
   "metadata": {
    "colab": {
     "base_uri": "https://localhost:8080/"
    },
    "id": "4EuBmoB5ISXk",
    "outputId": "69f032fc-090e-41b0-fd57-1746c42f1153"
   },
   "outputs": [
    {
     "data": {
      "text/plain": [
       "<tf.Variable 'Variable:0' shape=(2, 2, 8) dtype=int64, numpy=\n",
       "array([[[0, 8, 5, 1, 2, 8, 4, 8],\n",
       "        [1, 7, 9, 9, 3, 1, 7, 3]],\n",
       "\n",
       "       [[2, 2, 3, 1, 6, 8, 0, 4],\n",
       "        [5, 8, 0, 8, 0, 4, 5, 4]]], dtype=int64)>"
      ]
     },
     "execution_count": 86,
     "metadata": {},
     "output_type": "execute_result"
    }
   ],
   "source": [
    "#Similarly\n",
    "i = tf.dtypes.cast(tensorr, tf.int64)\n",
    "i"
   ]
  },
  {
   "cell_type": "code",
   "execution_count": 87,
   "metadata": {
    "colab": {
     "base_uri": "https://localhost:8080/"
    },
    "id": "9hph2CyEISfe",
    "outputId": "2804dfe6-6988-4057-8328-6980d500a685"
   },
   "outputs": [
    {
     "data": {
      "text/plain": [
       "<tf.Tensor: shape=(), dtype=int64, numpy=4>"
      ]
     },
     "execution_count": 87,
     "metadata": {},
     "output_type": "execute_result"
    }
   ],
   "source": [
    "# Casting with truncation\n",
    "\n",
    "j = tf.cast(tf.constant(4.8), dtype=tf.int64)\n",
    "j"
   ]
  },
  {
   "cell_type": "code",
   "execution_count": null,
   "metadata": {
    "id": "ea-0jAEjISiT"
   },
   "outputs": [],
   "source": []
  },
  {
   "cell_type": "code",
   "execution_count": 88,
   "metadata": {
    "id": "35V3PinB2mew"
   },
   "outputs": [],
   "source": [
    "#ragged tensors: tensor having one or more ragged dimension.\n",
    "# Ragged dimension : dimensions having slices having various length.\n",
    "# declaration is shown below"
   ]
  },
  {
   "cell_type": "code",
   "execution_count": 89,
   "metadata": {
    "colab": {
     "base_uri": "https://localhost:8080/"
    },
    "id": "zazqZ-1r2ngc",
    "outputId": "9b17c8e1-34b3-4ea2-f1e6-b4de65a1901b"
   },
   "outputs": [
    {
     "data": {
      "text/plain": [
       "<tf.RaggedTensor [[9, 7, 4, 3, 5, 6, 8, 9], [], [11, 12, 13, 15, 19, 20], [5], [-1, -5, -6]]>"
      ]
     },
     "execution_count": 89,
     "metadata": {},
     "output_type": "execute_result"
    }
   ],
   "source": [
    "ragged_tensor = tf.ragged.constant([[9,7,4,3,5,6,8,9],[],[11,12,13,15,19,20], [5],[-1,-5,-6]])\n",
    "ragged_tensor"
   ]
  },
  {
   "cell_type": "code",
   "execution_count": 90,
   "metadata": {
    "colab": {
     "base_uri": "https://localhost:8080/"
    },
    "id": "Fxq3W2Od2moP",
    "outputId": "fbffbf40-37f2-44d2-a58f-d1a5472e612b"
   },
   "outputs": [
    {
     "name": "stdout",
     "output_type": "stream",
     "text": [
      "tf.Tensor(7, shape=(), dtype=int32)\n"
     ]
    }
   ],
   "source": [
    "print(ragged_tensor[0,1])"
   ]
  },
  {
   "cell_type": "code",
   "execution_count": 91,
   "metadata": {
    "colab": {
     "base_uri": "https://localhost:8080/"
    },
    "id": "t0jkJBb12mus",
    "outputId": "d298fcb0-7523-40f0-ccec-9a49dd4bc2d3"
   },
   "outputs": [
    {
     "name": "stdout",
     "output_type": "stream",
     "text": [
      "tf.Tensor([9 7 4 3 5 6 8 9], shape=(8,), dtype=int32)\n"
     ]
    }
   ],
   "source": [
    "print(ragged_tensor[0,:])"
   ]
  },
  {
   "cell_type": "code",
   "execution_count": 92,
   "metadata": {
    "colab": {
     "base_uri": "https://localhost:8080/"
    },
    "id": "-u5jyxPH2mzJ",
    "outputId": "b15c558d-35cd-4404-c27a-016ed4d3d552"
   },
   "outputs": [
    {
     "name": "stdout",
     "output_type": "stream",
     "text": [
      "tf.Tensor([5 6], shape=(2,), dtype=int32)\n"
     ]
    }
   ],
   "source": [
    "print(ragged_tensor[0,4:6])"
   ]
  },
  {
   "cell_type": "code",
   "execution_count": 93,
   "metadata": {
    "colab": {
     "base_uri": "https://localhost:8080/"
    },
    "id": "8KYARUPS2m5C",
    "outputId": "6d67f24e-1fad-4a1e-ae9a-a5a6d40f3cb2"
   },
   "outputs": [
    {
     "name": "stdout",
     "output_type": "stream",
     "text": [
      "tf.Tensor([], shape=(0,), dtype=int32)\n",
      "tf.Tensor([11 12 13 15 19 20], shape=(6,), dtype=int32)\n",
      "tf.Tensor([5], shape=(1,), dtype=int32)\n",
      "tf.Tensor([-1 -5 -6], shape=(3,), dtype=int32)\n"
     ]
    }
   ],
   "source": [
    "print(ragged_tensor[1,:])\n",
    "print(ragged_tensor[2,:])\n",
    "print(ragged_tensor[3,:])\n",
    "print(ragged_tensor[4,:])"
   ]
  },
  {
   "cell_type": "code",
   "execution_count": null,
   "metadata": {
    "id": "eGmAGkEV2m8G"
   },
   "outputs": [],
   "source": []
  },
  {
   "cell_type": "code",
   "execution_count": null,
   "metadata": {
    "id": "a-lRNEzv2nCW"
   },
   "outputs": [],
   "source": []
  },
  {
   "cell_type": "code",
   "execution_count": 94,
   "metadata": {
    "colab": {
     "base_uri": "https://localhost:8080/"
    },
    "id": "gLgWj59NISla",
    "outputId": "2b124534-aced-45ae-d664-6d23bb1bef1f"
   },
   "outputs": [
    {
     "data": {
      "text/plain": [
       "<tf.Tensor: shape=(5,), dtype=int32, numpy=array([16,  9,  4, 49, 36])>"
      ]
     },
     "execution_count": 94,
     "metadata": {},
     "output_type": "execute_result"
    }
   ],
   "source": [
    "# squared difference of the matrices.\n",
    "# what it does is the find the difference and then square the result.\n",
    "\n",
    "var_01 = tf.Variable([4,5,6,1,2])\n",
    "var_02  = tf.Variable([8])\n",
    "var_res = tf.math.squared_difference(var_01, var_02)\n",
    "var_res"
   ]
  },
  {
   "cell_type": "code",
   "execution_count": 95,
   "metadata": {
    "colab": {
     "base_uri": "https://localhost:8080/"
    },
    "id": "EoBXdO4bKjiA",
    "outputId": "369aae08-f532-43de-f25e-8d9ee52b951f"
   },
   "outputs": [
    {
     "data": {
      "text/plain": [
       "<tf.Tensor: shape=(5,), dtype=int32, numpy=array([ 0, 25, 36,  1,  4])>"
      ]
     },
     "execution_count": 95,
     "metadata": {},
     "output_type": "execute_result"
    }
   ],
   "source": [
    "var_01 = tf.Variable([4,5,6,1,2])\n",
    "var_02  = tf.Variable([4,0,0,0,0])\n",
    "var_res = tf.math.squared_difference(var_01, var_02)\n",
    "var_res"
   ]
  },
  {
   "cell_type": "code",
   "execution_count": null,
   "metadata": {
    "id": "Rm5u5Cx9K0_u"
   },
   "outputs": [],
   "source": []
  },
  {
   "cell_type": "code",
   "execution_count": 96,
   "metadata": {
    "colab": {
     "base_uri": "https://localhost:8080/"
    },
    "id": "TibiUE0lLqAW",
    "outputId": "1cabede3-d27c-4a14-ac50-81c2e6de7853"
   },
   "outputs": [
    {
     "data": {
      "text/plain": [
       "<tf.Tensor: shape=(2, 2), dtype=float32, numpy=\n",
       "array([[8., 9.],\n",
       "       [1., 2.]], dtype=float32)>"
      ]
     },
     "execution_count": 96,
     "metadata": {},
     "output_type": "execute_result"
    }
   ],
   "source": [
    "# Calculating the mean\n",
    "\n",
    "numbers = tf.constant([[8,9],[1,2]], dtype=tf.float32)   # declaring a tensor\n",
    "numbers"
   ]
  },
  {
   "cell_type": "code",
   "execution_count": 97,
   "metadata": {
    "colab": {
     "base_uri": "https://localhost:8080/"
    },
    "id": "InDaAXD9LqDO",
    "outputId": "eb568709-8ba0-4a4b-8dee-999eb25e4caf"
   },
   "outputs": [
    {
     "data": {
      "text/plain": [
       "<tf.Tensor: shape=(), dtype=float32, numpy=5.0>"
      ]
     },
     "execution_count": 97,
     "metadata": {},
     "output_type": "execute_result"
    }
   ],
   "source": [
    "tf.reduce_mean(input_tensor=numbers)           # finding mean throughout the data"
   ]
  },
  {
   "cell_type": "code",
   "execution_count": 98,
   "metadata": {
    "colab": {
     "base_uri": "https://localhost:8080/"
    },
    "id": "8D31fy3vLqFr",
    "outputId": "813b0c79-da57-409f-f634-1780a532c49d"
   },
   "outputs": [
    {
     "data": {
      "text/plain": [
       "<tf.Tensor: shape=(2,), dtype=float32, numpy=array([4.5, 5.5], dtype=float32)>"
      ]
     },
     "execution_count": 98,
     "metadata": {},
     "output_type": "execute_result"
    }
   ],
   "source": [
    "tf.reduce_mean(input_tensor=numbers, axis=0)   #mean along row ,as axis = 0 =>imples row-wise"
   ]
  },
  {
   "cell_type": "code",
   "execution_count": 99,
   "metadata": {
    "colab": {
     "base_uri": "https://localhost:8080/"
    },
    "id": "TrfSxcfqLqIt",
    "outputId": "ce56a57b-53fb-4a92-a4d9-756d334a9363"
   },
   "outputs": [
    {
     "data": {
      "text/plain": [
       "<tf.Tensor: shape=(2,), dtype=float32, numpy=array([8.5, 1.5], dtype=float32)>"
      ]
     },
     "execution_count": 99,
     "metadata": {},
     "output_type": "execute_result"
    }
   ],
   "source": [
    "tf.reduce_mean(input_tensor=numbers, axis=1)  #mean along col ,as axis = 0 =>imples column-wise"
   ]
  },
  {
   "cell_type": "code",
   "execution_count": 100,
   "metadata": {
    "colab": {
     "base_uri": "https://localhost:8080/"
    },
    "id": "_ZA4V-SrLqK_",
    "outputId": "5f3aa10a-514a-4809-a9f2-826043ec8393"
   },
   "outputs": [
    {
     "data": {
      "text/plain": [
       "<tf.Tensor: shape=(2,), dtype=float32, numpy=array([4.5, 5.5], dtype=float32)>"
      ]
     },
     "execution_count": 100,
     "metadata": {},
     "output_type": "execute_result"
    }
   ],
   "source": [
    "# in simple we can write\n",
    "tf.reduce_mean(numbers,0)"
   ]
  },
  {
   "cell_type": "code",
   "execution_count": 101,
   "metadata": {
    "colab": {
     "base_uri": "https://localhost:8080/"
    },
    "id": "vzDwEL4aLqOJ",
    "outputId": "6031bdbe-73bc-4b03-c73f-c2da58b7e760"
   },
   "outputs": [
    {
     "name": "stdout",
     "output_type": "stream",
     "text": [
      "tf.Tensor([8.5 1.5], shape=(2,), dtype=float32)\n",
      "tf.Tensor(\n",
      "[[8.5]\n",
      " [1.5]], shape=(2, 1), dtype=float32)\n"
     ]
    }
   ],
   "source": [
    "# with keepdims = True , keeps the original dimension\n",
    " \n",
    "print(tf.reduce_mean(input_tensor=numbers, axis=1))\n",
    "print(tf.reduce_mean(input_tensor=numbers, axis=1, keepdims=True))"
   ]
  },
  {
   "cell_type": "code",
   "execution_count": null,
   "metadata": {
    "id": "GpbWjSXJNfGb"
   },
   "outputs": [],
   "source": []
  },
  {
   "cell_type": "code",
   "execution_count": 105,
   "metadata": {
    "colab": {
     "base_uri": "https://localhost:8080/"
    },
    "id": "cGlGeYQJN1YT",
    "outputId": "30b6c44e-1d82-40fe-e648-be43c4729bc9"
   },
   "outputs": [
    {
     "name": "stdout",
     "output_type": "stream",
     "text": [
      "<tf.Variable 'Variable:0' shape=(2, 4) dtype=int32, numpy=\n",
      "array([[ 5,  6,  9,  3],\n",
      "       [14, 15, 16, 18]])>\n"
     ]
    }
   ],
   "source": [
    "# Saving and restoring using the checkpoint.\n",
    "\n",
    "variable1 = tf.Variable([[5,6,9,3],[14,15,16,18]])\n",
    "checkpoint = tf.train.Checkpoint(var = variable1)\n",
    "savepath = checkpoint.save('./vars')\n",
    "variable1.assign([[0,0,0,0],[0,0,0,0]])\n",
    "variable1\n",
    "checkpoint.restore(savepath)\n",
    "print(variable1)"
   ]
  },
  {
   "cell_type": "code",
   "execution_count": null,
   "metadata": {
    "id": "nQbRp6-7N1dk"
   },
   "outputs": [],
   "source": []
  },
  {
   "cell_type": "code",
   "execution_count": 103,
   "metadata": {
    "id": "Zvx_qEFwN1h2"
   },
   "outputs": [],
   "source": [
    "# https://www.tensorflow.org/api_docs/python/tf \n",
    "\n",
    "# the important link for tensorflow documentation. visit the link for more information.\n",
    "\n",
    "# The documentation also includes the keras information as well. \n",
    "# We can get indepth intuition of keras and its practical usage with theory by comparing both.\n",
    "# We can also get the info of various optimizers, activators, loss fun'n, wt. initializers."
   ]
  },
  {
   "cell_type": "code",
   "execution_count": null,
   "metadata": {
    "id": "gF4fOveiN1kh"
   },
   "outputs": [],
   "source": []
  },
  {
   "cell_type": "code",
   "execution_count": null,
   "metadata": {
    "id": "6ftPUf8xN1qK"
   },
   "outputs": [],
   "source": []
  },
  {
   "cell_type": "code",
   "execution_count": null,
   "metadata": {
    "id": "kw62BBZbN1t5"
   },
   "outputs": [],
   "source": []
  },
  {
   "cell_type": "code",
   "execution_count": null,
   "metadata": {
    "id": "KIC4BZnJN12Y"
   },
   "outputs": [],
   "source": []
  }
 ],
 "metadata": {
  "colab": {
   "collapsed_sections": [],
   "name": "Tensorflow2_xxx.ipynb",
   "provenance": []
  },
  "kernelspec": {
   "display_name": "Python 3",
   "language": "python",
   "name": "python3"
  },
  "language_info": {
   "codemirror_mode": {
    "name": "ipython",
    "version": 3
   },
   "file_extension": ".py",
   "mimetype": "text/x-python",
   "name": "python",
   "nbconvert_exporter": "python",
   "pygments_lexer": "ipython3",
   "version": "3.6.9"
  }
 },
 "nbformat": 4,
 "nbformat_minor": 1
}
